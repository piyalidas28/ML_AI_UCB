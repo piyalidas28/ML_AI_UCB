{
 "cells": [
  {
   "cell_type": "markdown",
   "metadata": {
    "nbgrader": {
     "grade": false,
     "grade_id": "cell-3bfb8eddc53399a3",
     "locked": true,
     "schema_version": 3,
     "solution": false
    }
   },
   "source": [
    "### Codio Activity 3.8: Combining Data Analysis Techniques\n",
    "\n",
    "**Expected Time**: 120 Minutes\n",
    "\n",
    "**Total Points**: 10\n",
    "\n",
    "This assignment aims to put together our work from module 3.  You are to explore a dataset dealing with customer churn.  Exploratory plots and split-apply-combine techniques will be the main focus of the investigation with the impetus being to identify drivers of customer churn. Churn determines if a customer eliminated their subscription to the telecommunication company. \n",
    "\n",
    "#### Index:\n",
    "\n",
    "- [Problem 1](#Problem-1:-Reading-in-the-Data)\n",
    "- [Problem 2](#Problem-2:-Exploring-the-Missing-Data)\n",
    "- [Problem 3](#Problem-3:-Investigating-Churn)\n",
    "- [Problem 4](#Problem-4:-Plotting-Churn-with-Seaborn)\n",
    "- [Problem 5](#Problem-5:-Churn-Across-all-Customers)\n",
    "- [Problem 6](#Problem-1:-Churn-by-International-Plan)\n",
    "- [Problem 7](#Problem-2:-Selecting-Specific-States)\n",
    "- [Problem 8](#Problem-3:-International-Minutes-and-Churn)\n",
    "- [Problem 9](#Problem-4:-pairplot-of-features)\n",
    "- [Problem 10](#Problem-5:-Customer-Service-Calls-and-Churn)"
   ]
  },
  {
   "cell_type": "code",
   "execution_count": 1,
   "metadata": {},
   "outputs": [],
   "source": [
    "import pandas as pd\n",
    "import numpy as np\n",
    "import matplotlib.pyplot as plt\n",
    "import seaborn as sns\n",
    "import plotly.express as px"
   ]
  },
  {
   "cell_type": "markdown",
   "metadata": {
    "nbgrader": {
     "grade": false,
     "grade_id": "cell-27d8f80216c233b9",
     "locked": true,
     "schema_version": 3,
     "solution": false
    }
   },
   "source": [
    "[Back to top](#Index:) \n",
    "\n",
    "\n",
    "### Problem 1: Reading in the Data\n",
    "\n",
    "**1 Point**\n",
    "\n",
    "Read in the dataset as a pandas DataFrame and assign your answer to `churn_df` below.  The dataset is located in the `data` folder and titled `cell_phone_churn.csv`."
   ]
  },
  {
   "cell_type": "code",
   "execution_count": 2,
   "metadata": {
    "nbgrader": {
     "grade": false,
     "grade_id": "cell-d943285c78dcf3e6",
     "locked": false,
     "schema_version": 3,
     "solution": true
    }
   },
   "outputs": [
    {
     "name": "stdout",
     "output_type": "stream",
     "text": [
      "<class 'pandas.core.frame.DataFrame'>\n"
     ]
    },
    {
     "data": {
      "text/html": [
       "<div>\n",
       "<style scoped>\n",
       "    .dataframe tbody tr th:only-of-type {\n",
       "        vertical-align: middle;\n",
       "    }\n",
       "\n",
       "    .dataframe tbody tr th {\n",
       "        vertical-align: top;\n",
       "    }\n",
       "\n",
       "    .dataframe thead th {\n",
       "        text-align: right;\n",
       "    }\n",
       "</style>\n",
       "<table border=\"1\" class=\"dataframe\">\n",
       "  <thead>\n",
       "    <tr style=\"text-align: right;\">\n",
       "      <th></th>\n",
       "      <th>state</th>\n",
       "      <th>account_length</th>\n",
       "      <th>area_code</th>\n",
       "      <th>intl_plan</th>\n",
       "      <th>vmail_plan</th>\n",
       "      <th>vmail_message</th>\n",
       "      <th>day_mins</th>\n",
       "      <th>day_calls</th>\n",
       "      <th>day_charge</th>\n",
       "      <th>eve_mins</th>\n",
       "      <th>eve_calls</th>\n",
       "      <th>eve_charge</th>\n",
       "      <th>night_mins</th>\n",
       "      <th>night_calls</th>\n",
       "      <th>night_charge</th>\n",
       "      <th>intl_mins</th>\n",
       "      <th>intl_calls</th>\n",
       "      <th>intl_charge</th>\n",
       "      <th>custserv_calls</th>\n",
       "      <th>churn</th>\n",
       "    </tr>\n",
       "  </thead>\n",
       "  <tbody>\n",
       "    <tr>\n",
       "      <th>0</th>\n",
       "      <td>KS</td>\n",
       "      <td>128</td>\n",
       "      <td>415</td>\n",
       "      <td>no</td>\n",
       "      <td>yes</td>\n",
       "      <td>25</td>\n",
       "      <td>265.1</td>\n",
       "      <td>110</td>\n",
       "      <td>45.07</td>\n",
       "      <td>197.4</td>\n",
       "      <td>99</td>\n",
       "      <td>16.78</td>\n",
       "      <td>244.7</td>\n",
       "      <td>91</td>\n",
       "      <td>11.01</td>\n",
       "      <td>10.0</td>\n",
       "      <td>3</td>\n",
       "      <td>2.70</td>\n",
       "      <td>1</td>\n",
       "      <td>False</td>\n",
       "    </tr>\n",
       "    <tr>\n",
       "      <th>1</th>\n",
       "      <td>OH</td>\n",
       "      <td>107</td>\n",
       "      <td>415</td>\n",
       "      <td>no</td>\n",
       "      <td>yes</td>\n",
       "      <td>26</td>\n",
       "      <td>161.6</td>\n",
       "      <td>123</td>\n",
       "      <td>27.47</td>\n",
       "      <td>195.5</td>\n",
       "      <td>103</td>\n",
       "      <td>16.62</td>\n",
       "      <td>254.4</td>\n",
       "      <td>103</td>\n",
       "      <td>11.45</td>\n",
       "      <td>13.7</td>\n",
       "      <td>3</td>\n",
       "      <td>3.70</td>\n",
       "      <td>1</td>\n",
       "      <td>False</td>\n",
       "    </tr>\n",
       "    <tr>\n",
       "      <th>2</th>\n",
       "      <td>NJ</td>\n",
       "      <td>137</td>\n",
       "      <td>415</td>\n",
       "      <td>no</td>\n",
       "      <td>no</td>\n",
       "      <td>0</td>\n",
       "      <td>243.4</td>\n",
       "      <td>114</td>\n",
       "      <td>41.38</td>\n",
       "      <td>121.2</td>\n",
       "      <td>110</td>\n",
       "      <td>10.30</td>\n",
       "      <td>162.6</td>\n",
       "      <td>104</td>\n",
       "      <td>7.32</td>\n",
       "      <td>12.2</td>\n",
       "      <td>5</td>\n",
       "      <td>3.29</td>\n",
       "      <td>0</td>\n",
       "      <td>False</td>\n",
       "    </tr>\n",
       "    <tr>\n",
       "      <th>3</th>\n",
       "      <td>OH</td>\n",
       "      <td>84</td>\n",
       "      <td>408</td>\n",
       "      <td>yes</td>\n",
       "      <td>no</td>\n",
       "      <td>0</td>\n",
       "      <td>299.4</td>\n",
       "      <td>71</td>\n",
       "      <td>50.90</td>\n",
       "      <td>61.9</td>\n",
       "      <td>88</td>\n",
       "      <td>5.26</td>\n",
       "      <td>196.9</td>\n",
       "      <td>89</td>\n",
       "      <td>8.86</td>\n",
       "      <td>6.6</td>\n",
       "      <td>7</td>\n",
       "      <td>1.78</td>\n",
       "      <td>2</td>\n",
       "      <td>False</td>\n",
       "    </tr>\n",
       "    <tr>\n",
       "      <th>4</th>\n",
       "      <td>OK</td>\n",
       "      <td>75</td>\n",
       "      <td>415</td>\n",
       "      <td>yes</td>\n",
       "      <td>no</td>\n",
       "      <td>0</td>\n",
       "      <td>166.7</td>\n",
       "      <td>113</td>\n",
       "      <td>28.34</td>\n",
       "      <td>148.3</td>\n",
       "      <td>122</td>\n",
       "      <td>12.61</td>\n",
       "      <td>186.9</td>\n",
       "      <td>121</td>\n",
       "      <td>8.41</td>\n",
       "      <td>10.1</td>\n",
       "      <td>3</td>\n",
       "      <td>2.73</td>\n",
       "      <td>3</td>\n",
       "      <td>False</td>\n",
       "    </tr>\n",
       "  </tbody>\n",
       "</table>\n",
       "</div>"
      ],
      "text/plain": [
       "  state  account_length  area_code intl_plan vmail_plan  vmail_message  \\\n",
       "0    KS             128        415        no        yes             25   \n",
       "1    OH             107        415        no        yes             26   \n",
       "2    NJ             137        415        no         no              0   \n",
       "3    OH              84        408       yes         no              0   \n",
       "4    OK              75        415       yes         no              0   \n",
       "\n",
       "   day_mins  day_calls  day_charge  eve_mins  eve_calls  eve_charge  \\\n",
       "0     265.1        110       45.07     197.4         99       16.78   \n",
       "1     161.6        123       27.47     195.5        103       16.62   \n",
       "2     243.4        114       41.38     121.2        110       10.30   \n",
       "3     299.4         71       50.90      61.9         88        5.26   \n",
       "4     166.7        113       28.34     148.3        122       12.61   \n",
       "\n",
       "   night_mins  night_calls  night_charge  intl_mins  intl_calls  intl_charge  \\\n",
       "0       244.7           91         11.01       10.0           3         2.70   \n",
       "1       254.4          103         11.45       13.7           3         3.70   \n",
       "2       162.6          104          7.32       12.2           5         3.29   \n",
       "3       196.9           89          8.86        6.6           7         1.78   \n",
       "4       186.9          121          8.41       10.1           3         2.73   \n",
       "\n",
       "   custserv_calls  churn  \n",
       "0               1  False  \n",
       "1               1  False  \n",
       "2               0  False  \n",
       "3               2  False  \n",
       "4               3  False  "
      ]
     },
     "execution_count": 2,
     "metadata": {},
     "output_type": "execute_result"
    }
   ],
   "source": [
    "### GRADED\n",
    "\n",
    "churn_df = None\n",
    "\n",
    "### BEGIN SOLUTION\n",
    "churn_df = pd.read_csv('data/cell_phone_churn.csv')\n",
    "### END SOLUTION\n",
    "\n",
    "# Answer check\n",
    "print(type(churn_df))\n",
    "churn_df.head()"
   ]
  },
  {
   "cell_type": "code",
   "execution_count": 3,
   "metadata": {
    "nbgrader": {
     "grade": true,
     "grade_id": "cell-d35cc019724c671b",
     "locked": true,
     "points": 1,
     "schema_version": 3,
     "solution": false
    }
   },
   "outputs": [],
   "source": [
    "### BEGIN HIDDEN TESTS\n",
    "churn_df_ = pd.read_csv('data/cell_phone_churn.csv')\n",
    "#\n",
    "#\n",
    "#\n",
    "assert type(churn_df) == type(churn_df_)\n",
    "pd.testing.assert_frame_equal(churn_df, churn_df_)\n",
    "### END HIDDEN TESTS"
   ]
  },
  {
   "cell_type": "markdown",
   "metadata": {
    "nbgrader": {
     "grade": false,
     "grade_id": "cell-43c681257bc59a3d",
     "locked": true,
     "schema_version": 3,
     "solution": false
    }
   },
   "source": [
    "[Back to top](#Index:) \n",
    "\n",
    "\n",
    "### Problem 2: Exploring the Missing Data\n",
    "\n",
    "**1 Point**\n",
    "\n",
    "Using the `.isnull()` method together with the `.sum()` method, use the DataFrame `churn_df` determine how many missing values are in each column.  Assign your solution as a pandas Series to `missing_vals` below."
   ]
  },
  {
   "cell_type": "code",
   "execution_count": 4,
   "metadata": {
    "nbgrader": {
     "grade": false,
     "grade_id": "cell-5e84f2447a6feb8e",
     "locked": false,
     "schema_version": 3,
     "solution": true
    }
   },
   "outputs": [
    {
     "name": "stdout",
     "output_type": "stream",
     "text": [
      "<class 'pandas.core.series.Series'>\n"
     ]
    },
    {
     "data": {
      "text/plain": [
       "state             0\n",
       "account_length    0\n",
       "area_code         0\n",
       "intl_plan         0\n",
       "vmail_plan        0\n",
       "vmail_message     0\n",
       "day_mins          0\n",
       "day_calls         0\n",
       "day_charge        0\n",
       "eve_mins          0\n",
       "eve_calls         0\n",
       "eve_charge        0\n",
       "night_mins        0\n",
       "night_calls       0\n",
       "night_charge      0\n",
       "intl_mins         0\n",
       "intl_calls        0\n",
       "intl_charge       0\n",
       "custserv_calls    0\n",
       "churn             0\n",
       "dtype: int64"
      ]
     },
     "execution_count": 4,
     "metadata": {},
     "output_type": "execute_result"
    }
   ],
   "source": [
    "### GRADED\n",
    "\n",
    "missing_vals = None\n",
    "\n",
    "### BEGIN SOLUTION\n",
    "missing_vals = churn_df.isnull().sum()\n",
    "### END SOLUTION\n",
    "\n",
    "# Answer check\n",
    "print(type(missing_vals))\n",
    "missing_vals"
   ]
  },
  {
   "cell_type": "code",
   "execution_count": 5,
   "metadata": {
    "nbgrader": {
     "grade": true,
     "grade_id": "cell-9137407d372cb381",
     "locked": true,
     "points": 1,
     "schema_version": 3,
     "solution": false
    }
   },
   "outputs": [],
   "source": [
    "### BEGIN HIDDEN TESTS\n",
    "churn_df_ = pd.read_csv('data/cell_phone_churn.csv')\n",
    "missing_vals_ = churn_df_.isnull().sum()\n",
    "#\n",
    "#\n",
    "#\n",
    "assert type(missing_vals) == type(missing_vals_)\n",
    "pd.testing.assert_series_equal(missing_vals, missing_vals_)\n",
    "### END HIDDEN TESTS"
   ]
  },
  {
   "cell_type": "markdown",
   "metadata": {
    "nbgrader": {
     "grade": false,
     "grade_id": "cell-36a19214005aac32",
     "locked": true,
     "schema_version": 3,
     "solution": false
    }
   },
   "source": [
    "[Back to top](#Index:) \n",
    "\n",
    "\n",
    "### Problem 3: Investigating Churn\n",
    "\n",
    "**1 Point**\n",
    "\n",
    "Use the `.value_counts()` method on the `churn` column of `churn_df` to determine the *percent* (value between 0 and 1) of customers churned and not in the dataset.  Assign your results as a pandas Series to `churn_pct` below.  "
   ]
  },
  {
   "cell_type": "code",
   "execution_count": 6,
   "metadata": {
    "nbgrader": {
     "grade": false,
     "grade_id": "cell-3706cd824f22c1fa",
     "locked": false,
     "schema_version": 3,
     "solution": true
    }
   },
   "outputs": [
    {
     "name": "stdout",
     "output_type": "stream",
     "text": [
      "<class 'pandas.core.series.Series'>\n"
     ]
    },
    {
     "data": {
      "text/plain": [
       "False    0.855086\n",
       "True     0.144914\n",
       "Name: churn, dtype: float64"
      ]
     },
     "execution_count": 6,
     "metadata": {},
     "output_type": "execute_result"
    }
   ],
   "source": [
    "### GRADED\n",
    "\n",
    "churn_pct = None\n",
    "\n",
    "### BEGIN SOLUTION\n",
    "churn_pct = churn_df['churn'].value_counts(normalize = True)\n",
    "### END SOLUTION\n",
    "\n",
    "# Answer check\n",
    "print(type(churn_pct))\n",
    "churn_pct"
   ]
  },
  {
   "cell_type": "code",
   "execution_count": 7,
   "metadata": {
    "nbgrader": {
     "grade": true,
     "grade_id": "cell-b65a7bb5446d2877",
     "locked": true,
     "points": 1,
     "schema_version": 3,
     "solution": false
    }
   },
   "outputs": [],
   "source": [
    "### BEGIN HIDDEN TESTS\n",
    "churn_df_ = pd.read_csv('data/cell_phone_churn.csv')\n",
    "churn_pct_ = churn_df_['churn'].value_counts(normalize = True)\n",
    "#\n",
    "#\n",
    "#\n",
    "assert type(churn_pct) == type(churn_pct_)\n",
    "pd.testing.assert_series_equal(churn_pct, churn_pct_)\n",
    "### END HIDDEN TESTS"
   ]
  },
  {
   "cell_type": "markdown",
   "metadata": {
    "nbgrader": {
     "grade": false,
     "grade_id": "cell-40a1f641125708ac",
     "locked": true,
     "schema_version": 3,
     "solution": false
    }
   },
   "source": [
    "[Back to top](#Index:) \n",
    "\n",
    "\n",
    "### Problem 4: Plotting Churn with Seaborn\n",
    "\n",
    "**1 Point**\n",
    "\n",
    "Use seaborn's `countplot()` on the `churn` column of `churn_df` to visualize the counts of customers churned and not churned.  Save your image as `churn_count.png` to the `images` folder."
   ]
  },
  {
   "cell_type": "code",
   "execution_count": 8,
   "metadata": {
    "nbgrader": {
     "grade": false,
     "grade_id": "cell-e2593cccc6436f19",
     "locked": false,
     "schema_version": 3,
     "solution": true
    }
   },
   "outputs": [
    {
     "data": {
      "image/png": "[encoded data removed]",
      "text/plain": [
       "<Figure size 432x288 with 1 Axes>"
      ]
     },
     "metadata": {
      "needs_background": "light"
     },
     "output_type": "display_data"
    }
   ],
   "source": [
    "### GRADED\n",
    "\n",
    "### BEGIN SOLUTION\n",
    "sns.countplot(data = churn_df, x = 'churn')\n",
    "plt.savefig('images/churn_count.png')\n",
    "### END SOLUTION"
   ]
  },
  {
   "cell_type": "code",
   "execution_count": 9,
   "metadata": {
    "nbgrader": {
     "grade": true,
     "grade_id": "cell-2874209473a05bba",
     "locked": true,
     "points": 1,
     "schema_version": 3,
     "solution": false
    }
   },
   "outputs": [
    {
     "data": {
      "image/png": "[encoded data removed]",
      "text/plain": [
       "<Figure size 432x288 with 1 Axes>"
      ]
     },
     "metadata": {
      "needs_background": "light"
     },
     "output_type": "display_data"
    }
   ],
   "source": [
    "### BEGIN HIDDEN TESTS\n",
    "churn_df_ = pd.read_csv('data/cell_phone_churn.csv')\n",
    "sns.countplot(data = churn_df_, x = 'churn')\n",
    "plt.savefig('images/churn_count_.png')\n",
    "### END HIDDEN TESTS"
   ]
  },
  {
   "cell_type": "markdown",
   "metadata": {
    "nbgrader": {
     "grade": false,
     "grade_id": "cell-34784ec0395002a5",
     "locked": true,
     "schema_version": 3,
     "solution": false
    }
   },
   "source": [
    "[Back to top](#Index:) \n",
    "\n",
    "\n",
    "### Problem 5: Churn Across all Customers\n",
    "\n",
    "**1 Point**\n",
    "\n",
    "Based on what you see in problem 3 and 4, are most customers churned or do most stay with the company?  Assign a boolean of `True` if most are churned and `False` if most stay with the company to the variable `most_churn` below."
   ]
  },
  {
   "cell_type": "code",
   "execution_count": 10,
   "metadata": {
    "nbgrader": {
     "grade": false,
     "grade_id": "cell-a83468fe43cd8832",
     "locked": false,
     "schema_version": 3,
     "solution": true
    }
   },
   "outputs": [
    {
     "name": "stdout",
     "output_type": "stream",
     "text": [
      "<class 'bool'>\n"
     ]
    },
    {
     "data": {
      "text/plain": [
       "False"
      ]
     },
     "execution_count": 10,
     "metadata": {},
     "output_type": "execute_result"
    }
   ],
   "source": [
    "### GRADED\n",
    "\n",
    "most_churn = None\n",
    "\n",
    "### BEGIN SOLUTION\n",
    "most_churn = False\n",
    "### END SOLUTION\n",
    "print(type(most_churn))\n",
    "most_churn"
   ]
  },
  {
   "cell_type": "code",
   "execution_count": 11,
   "metadata": {
    "nbgrader": {
     "grade": true,
     "grade_id": "cell-6edc1c7020c2e870",
     "locked": true,
     "points": 1,
     "schema_version": 3,
     "solution": false
    }
   },
   "outputs": [],
   "source": [
    "### BEGIN HIDDEN TESTS\n",
    "most_churn_ = False\n",
    "#\n",
    "#\n",
    "#\n",
    "assert most_churn_ == most_churn\n",
    "### END HIDDEN TESTS"
   ]
  },
  {
   "cell_type": "markdown",
   "metadata": {
    "nbgrader": {
     "grade": false,
     "grade_id": "cell-bae2792d5a908d3d",
     "locked": true,
     "schema_version": 3,
     "solution": false
    }
   },
   "source": [
    "[Back to top](#Index:) \n",
    "\n",
    "\n",
    "### Problem 6: Churn by International Plan\n",
    "\n",
    "**1 Point**\n",
    "\n",
    "Use the `groupby` method to split the data based on customers who did and did not have international plans.  Find the average churn for each group and assign your response as a DataFrame to `intl_churn` below.  "
   ]
  },
  {
   "cell_type": "code",
   "execution_count": 12,
   "metadata": {
    "nbgrader": {
     "grade": false,
     "grade_id": "cell-2e9908ac06f474e2",
     "locked": false,
     "schema_version": 3,
     "solution": true
    }
   },
   "outputs": [
    {
     "name": "stdout",
     "output_type": "stream",
     "text": [
      "<class 'pandas.core.frame.DataFrame'>\n"
     ]
    },
    {
     "data": {
      "text/html": [
       "<div>\n",
       "<style scoped>\n",
       "    .dataframe tbody tr th:only-of-type {\n",
       "        vertical-align: middle;\n",
       "    }\n",
       "\n",
       "    .dataframe tbody tr th {\n",
       "        vertical-align: top;\n",
       "    }\n",
       "\n",
       "    .dataframe thead th {\n",
       "        text-align: right;\n",
       "    }\n",
       "</style>\n",
       "<table border=\"1\" class=\"dataframe\">\n",
       "  <thead>\n",
       "    <tr style=\"text-align: right;\">\n",
       "      <th></th>\n",
       "      <th>churn</th>\n",
       "    </tr>\n",
       "    <tr>\n",
       "      <th>intl_plan</th>\n",
       "      <th></th>\n",
       "    </tr>\n",
       "  </thead>\n",
       "  <tbody>\n",
       "    <tr>\n",
       "      <th>no</th>\n",
       "      <td>0.114950</td>\n",
       "    </tr>\n",
       "    <tr>\n",
       "      <th>yes</th>\n",
       "      <td>0.424149</td>\n",
       "    </tr>\n",
       "  </tbody>\n",
       "</table>\n",
       "</div>"
      ],
      "text/plain": [
       "              churn\n",
       "intl_plan          \n",
       "no         0.114950\n",
       "yes        0.424149"
      ]
     },
     "execution_count": 12,
     "metadata": {},
     "output_type": "execute_result"
    }
   ],
   "source": [
    "### GRADED\n",
    "\n",
    "intl_churn = None\n",
    "\n",
    "### BEGIN SOLUTION\n",
    "intl_churn = churn_df.groupby('intl_plan')[['churn']].mean()\n",
    "### END SOLUTION\n",
    "print(type(intl_churn))\n",
    "intl_churn"
   ]
  },
  {
   "cell_type": "code",
   "execution_count": 13,
   "metadata": {
    "nbgrader": {
     "grade": true,
     "grade_id": "cell-2122607a974404bf",
     "locked": true,
     "points": 1,
     "schema_version": 3,
     "solution": false
    }
   },
   "outputs": [],
   "source": [
    "### BEGIN HIDDEN TESTS\n",
    "churn_df_ = pd.read_csv('data/cell_phone_churn.csv')\n",
    "intl_churn_ = churn_df_.groupby('intl_plan')[['churn']].mean()\n",
    "#\n",
    "#\n",
    "#\n",
    "assert type(intl_churn) == type(intl_churn_)\n",
    "pd.testing.assert_frame_equal(intl_churn, intl_churn_)\n",
    "### END HIDDEN TESTS"
   ]
  },
  {
   "cell_type": "markdown",
   "metadata": {
    "nbgrader": {
     "grade": false,
     "grade_id": "cell-a84681836252dc78",
     "locked": true,
     "schema_version": 3,
     "solution": false
    }
   },
   "source": [
    "[Back to top](#Index:) \n",
    "\n",
    "\n",
    "### Problem 7: Selecting Specific States\n",
    "\n",
    "**1 Point**\n",
    "\n",
    "Subset the data to the following five states using the `query` method.  Use the resulting subset to determine the percent churned for each state using the `groupby` method.  Which state had the highest churn rate?  Assign your answer as a string with the two letter abbreviation from the list `states` to `most_churn_ne` below.\n",
    "\n",
    "```python\n",
    "states = ['NY', 'MA', 'CT', 'NH', 'ME']\n",
    "```"
   ]
  },
  {
   "cell_type": "code",
   "execution_count": 14,
   "metadata": {},
   "outputs": [],
   "source": [
    "states = ['NY', 'MA', 'CT', 'NH', 'ME']"
   ]
  },
  {
   "cell_type": "code",
   "execution_count": 15,
   "metadata": {},
   "outputs": [],
   "source": [
    "### explore the data here\n"
   ]
  },
  {
   "cell_type": "code",
   "execution_count": 16,
   "metadata": {
    "nbgrader": {
     "grade": false,
     "grade_id": "cell-25b637284a98e0da",
     "locked": false,
     "schema_version": 3,
     "solution": true
    }
   },
   "outputs": [
    {
     "name": "stdout",
     "output_type": "stream",
     "text": [
      "<class 'str'>\n"
     ]
    },
    {
     "data": {
      "text/plain": [
       "'ME'"
      ]
     },
     "execution_count": 16,
     "metadata": {},
     "output_type": "execute_result"
    }
   ],
   "source": [
    "### GRADED\n",
    "\n",
    "most_churn_ne = None\n",
    "\n",
    "### BEGIN SOLUTION\n",
    "ne = churn_df.query('state in @states')\n",
    "ans = ne.groupby('state')[['churn']].mean().sort_values(by = 'churn', ascending = False)\n",
    "most_churn_ne = 'ME'\n",
    "### END SOLUTION\n",
    "print(type(most_churn_ne))\n",
    "most_churn_ne"
   ]
  },
  {
   "cell_type": "code",
   "execution_count": 17,
   "metadata": {
    "nbgrader": {
     "grade": true,
     "grade_id": "cell-d6534707c997a5c2",
     "locked": true,
     "points": 1,
     "schema_version": 3,
     "solution": false
    }
   },
   "outputs": [],
   "source": [
    "### BEGIN HIDDEN TESTS\n",
    "states_ = ['NY', 'MA', 'CT', 'NH', 'ME']\n",
    "churn_df_ = pd.read_csv('data/cell_phone_churn.csv')\n",
    "ne_ = churn_df_.query('state in @states_')\n",
    "ans_ = ne_.groupby('state')[['churn']].mean().sort_values(by = 'churn', ascending = False)\n",
    "most_churn_ne_ = 'ME'\n",
    "#\n",
    "#\n",
    "#\n",
    "assert type(most_churn_ne) == type(most_churn_ne_)\n",
    "assert most_churn_ne == most_churn_ne_, 'Make sure your string matches the name in the list exactly'\n",
    "### END HIDDEN TESTS"
   ]
  },
  {
   "cell_type": "markdown",
   "metadata": {
    "nbgrader": {
     "grade": false,
     "grade_id": "cell-73d73cbcd813d6d0",
     "locked": true,
     "schema_version": 3,
     "solution": false
    }
   },
   "source": [
    "[Back to top](#Index:) \n",
    "\n",
    "\n",
    "### Problem 8: International Minutes and Churn\n",
    "\n",
    "**1 Point**\n",
    "\n",
    "Use seaborn to create histograms of the `intl_mins` column split by churn.  Save your plot as `intl_mins.png` to the `images` folder.  Do you think international minutes determine customer churn?  Assign your answer as a string -- `yes` or `no` -- to `intl_min_churn` below."
   ]
  },
  {
   "cell_type": "code",
   "execution_count": 18,
   "metadata": {
    "nbgrader": {
     "grade": false,
     "grade_id": "cell-a248af51e30e1c6e",
     "locked": false,
     "schema_version": 3,
     "solution": true
    }
   },
   "outputs": [
    {
     "name": "stdout",
     "output_type": "stream",
     "text": [
      "<class 'str'>\n"
     ]
    },
    {
     "data": {
      "text/plain": [
       "'no'"
      ]
     },
     "execution_count": 18,
     "metadata": {},
     "output_type": "execute_result"
    },
    {
     "data": {
      "image/png": "[encoded data removed]",
      "text/plain": [
       "<Figure size 432x288 with 1 Axes>"
      ]
     },
     "metadata": {
      "needs_background": "light"
     },
     "output_type": "display_data"
    }
   ],
   "source": [
    "### GRADED\n",
    "#make your histogram\n",
    "\n",
    "intl_min_churn = None\n",
    "\n",
    "### BEGIN SOLUTION\n",
    "intl_min_churn = 'no'\n",
    "sns.histplot(data = churn_df, x = 'intl_mins', hue = 'churn')\n",
    "plt.savefig('images/intl_mins.png')\n",
    "### END SOLUTION\n",
    "print(type(intl_min_churn))\n",
    "intl_min_churn"
   ]
  },
  {
   "cell_type": "code",
   "execution_count": 19,
   "metadata": {
    "nbgrader": {
     "grade": true,
     "grade_id": "cell-83b64e6d185c7281",
     "locked": true,
     "points": 1,
     "schema_version": 3,
     "solution": false
    }
   },
   "outputs": [
    {
     "data": {
      "image/png": "[encoded data removed]",
      "text/plain": [
       "<Figure size 432x288 with 1 Axes>"
      ]
     },
     "metadata": {
      "needs_background": "light"
     },
     "output_type": "display_data"
    }
   ],
   "source": [
    "### BEGIN HIDDEN TESTS\n",
    "churn_df_ = pd.read_csv('data/cell_phone_churn.csv')\n",
    "sns.histplot(data = churn_df_, x = 'intl_mins', hue = 'churn')\n",
    "plt.savefig('images/intl_mins_.png')\n",
    "intl_min_churn_ = 'no'\n",
    "#\n",
    "#\n",
    "#\n",
    "assert type(intl_min_churn) == type(intl_min_churn_)\n",
    "assert intl_min_churn == intl_min_churn_, 'Make sure your string matches yes or no exactly'\n",
    "### END HIDDEN TESTS\n"
   ]
  },
  {
   "cell_type": "markdown",
   "metadata": {
    "nbgrader": {
     "grade": false,
     "grade_id": "cell-fa747d870bf6c52b",
     "locked": true,
     "schema_version": 3,
     "solution": false
    }
   },
   "source": [
    "[Back to top](#Index:) \n",
    "\n",
    "\n",
    "### Problem 9: `pairplot` of features\n",
    "\n",
    "**1 Point**\n",
    "\n",
    "Use the columns `[night_calls, night_charge, intl_mins, intl_calls, intl_charge, custserv_calls]` to produce a seaborn `jointplot` colored by `churn`.  Save your image to `jointplot.png` in the images folder.  Do any of the features seem to separate customers who were churned from those that were not?"
   ]
  },
  {
   "cell_type": "code",
   "execution_count": null,
   "metadata": {
    "nbgrader": {
     "grade": false,
     "grade_id": "cell-fadd43cbf248f9e2",
     "locked": false,
     "schema_version": 3,
     "solution": true
    }
   },
   "outputs": [],
   "source": [
    "### GRADED\n",
    "\n",
    "#make your pairplot\n",
    "\n",
    "### BEGIN SOLUTION\n",
    "sns.pairplot(churn_df[['night_calls', 'night_charge', 'intl_mins', \n",
    "                       'intl_calls', 'intl_charge', 'custserv_calls', 'churn']], hue = 'churn')\n",
    "plt.savefig('images/intl_mins.png')\n",
    "### END SOLUTION"
   ]
  },
  {
   "cell_type": "code",
   "execution_count": null,
   "metadata": {
    "nbgrader": {
     "grade": true,
     "grade_id": "cell-cfc6bfd4169e5482",
     "locked": true,
     "points": 1,
     "schema_version": 3,
     "solution": false
    }
   },
   "outputs": [],
   "source": [
    "### BEGIN HIDDEN TESTS\n",
    "churn_df_ = pd.read_csv('data/cell_phone_churn.csv')\n",
    "sns.pairplot(churn_df_[['night_calls', 'night_charge', 'intl_mins', \n",
    "                       'intl_calls', 'intl_charge', 'custserv_calls', 'churn']], hue = 'churn')\n",
    "plt.savefig('images/intl_mins_.png')\n",
    "\n",
    "#\n",
    "#\n",
    "#\n",
    "\n",
    "### END HIDDEN TESTS"
   ]
  },
  {
   "cell_type": "markdown",
   "metadata": {
    "nbgrader": {
     "grade": false,
     "grade_id": "cell-1ee07da65dbd92a4",
     "locked": true,
     "schema_version": 3,
     "solution": false
    }
   },
   "source": [
    "[Back to top](#Index:) \n",
    "\n",
    "\n",
    "### Problem 10: Customer Service Calls and Churn\n",
    "\n",
    "**1 Point**\n",
    "\n",
    "Use the `groupby` method to split the data by customers who had more than 4 customer service calls and those that had fewer.  Determine the churn rate for each of the groups and assign your result as a DataFrame to `cust_service_churn` below."
   ]
  },
  {
   "cell_type": "code",
   "execution_count": null,
   "metadata": {
    "nbgrader": {
     "grade": false,
     "grade_id": "cell-4d61d46cc389dd05",
     "locked": false,
     "schema_version": 3,
     "solution": true
    }
   },
   "outputs": [],
   "source": [
    "### GRADED\n",
    "\n",
    "cust_service_churn = None\n",
    "\n",
    "### BEGIN SOLUTION\n",
    "cust_service_churn = churn_df.groupby(churn_df['custserv_calls'] > 4)[['churn']].mean()\n",
    "### END SOLUTION\n",
    "print(type(cust_service_churn))\n",
    "cust_service_churn"
   ]
  },
  {
   "cell_type": "code",
   "execution_count": null,
   "metadata": {
    "nbgrader": {
     "grade": true,
     "grade_id": "cell-743f15bd18bc9040",
     "locked": true,
     "points": 1,
     "schema_version": 3,
     "solution": false
    }
   },
   "outputs": [],
   "source": [
    "### BEGIN HIDDEN TESTS\n",
    "churn_df_ = pd.read_csv('data/cell_phone_churn.csv')\n",
    "cust_service_churn_ = churn_df_.groupby(churn_df['custserv_calls'] > 4)[['churn']].mean()\n",
    "\n",
    "#\n",
    "#\n",
    "#\n",
    "assert type(cust_service_churn) == type(cust_service_churn_)\n",
    "pd.testing.assert_frame_equal(cust_service_churn, cust_service_churn_)\n",
    "### END HIDDEN TESTS"
   ]
  },
  {
   "cell_type": "markdown",
   "metadata": {
    "nbgrader": {
     "grade": false,
     "grade_id": "cell-6d46ca5bcbd44d8d",
     "locked": true,
     "schema_version": 3,
     "solution": false
    }
   },
   "source": [
    "It seems there are certain criteria where we find a larger percentage of customers churned based on this initial investigation.  Of course, there are many other ways to split, filter, and aggregate the data.  You are encouraged to further slice and dice the data to dig for more clues as to what drives customer churn."
   ]
  }
 ],
 "metadata": {
  "celltoolbar": "Create Assignment",
  "kernelspec": {
   "display_name": "Python 3 (ipykernel)",
   "language": "python",
   "name": "python3"
  },
  "language_info": {
   "codemirror_mode": {
    "name": "ipython",
    "version": 3
   },
   "file_extension": ".py",
   "mimetype": "text/x-python",
   "name": "python",
   "nbconvert_exporter": "python",
   "pygments_lexer": "ipython3",
   "version": "3.9.11"
  },
  "widgets": {
   "application/vnd.jupyter.widget-state+json": {
    "state": {},
    "version_major": 2,
    "version_minor": 0
   }
  }
 },
 "nbformat": 4,
 "nbformat_minor": 4
}
