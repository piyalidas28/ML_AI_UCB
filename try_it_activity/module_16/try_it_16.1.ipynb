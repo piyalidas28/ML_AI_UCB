{
 "cells": [
  {
   "cell_type": "markdown",
   "metadata": {},
   "source": [
    "### Comparing Models\n",
    "\n",
    "Now that you have seen a variety of models for regression and classification problems, it is good to step back and weigh the pros and cons of these options.  In the case of classification models, there are at least three things to consider:\n",
    "\n",
    "1. Is the model good at handling imbalanced classes?\n",
    "2. Does the model train quickly?\n",
    "3. Does the model yield interpretable results?\n",
    "\n",
    "Depending on your dataset and goals, the importance of these considerations will vary from project to project.  Your goal is to review our models to this point and discuss the pros and cons of each.  Two example datasets are offered as a way to offer two very different tasks where interpretability of the model may be of differing importance."
   ]
  },
  {
   "cell_type": "markdown",
   "metadata": {},
   "source": [
    "### Data and Task\n",
    "\n",
    "Your goal is to discuss the pros and cons of Logistic Regression, Decision Trees, KNN, and SVM for the tasks below.  Consider at least the three questions above and list any additional considerations you believe are important to determining the \"best\" model for the task.  Share your response with your peers on the class discussion board.  \n",
    "\n",
    "**TASK 1**: Predicting Customer Churn\n",
    "\n",
    "Suppose you are tasked with producing a model to predict customer churn.  Which of your classification models would you use and what are the pros and cons of this model for this task?  Be sure to consider interpretability, imbalnced classes, and the speed of training.\n",
    "\n"
   ]
  },
  {
   "cell_type": "code",
   "execution_count": 1,
   "metadata": {},
   "outputs": [],
   "source": [
    "import pandas as pd\n",
    "import matplotlib.pyplot as plt\n",
    "from sklearn.model_selection import GridSearchCV, train_test_split, RandomizedSearchCV\n",
    "from sklearn.linear_model import LogisticRegression\n",
    "from sklearn.tree import DecisionTreeClassifier\n",
    "from sklearn.neighbors import KNeighborsClassifier\n",
    "from sklearn.svm import SVC\n",
    "from sklearn.metrics import accuracy_score\n",
    "from sklearn.preprocessing import StandardScaler\n",
    "from sklearn.pipeline import make_pipeline\n",
    "from sklearn.compose import ColumnTransformer\n",
    "from sklearn.preprocessing import OneHotEncoder"
   ]
  },
  {
   "cell_type": "code",
   "execution_count": 2,
   "metadata": {},
   "outputs": [],
   "source": [
    "from sklearn.datasets import load_digits"
   ]
  },
  {
   "cell_type": "markdown",
   "metadata": {},
   "source": [
    "The data is loaded below.  Note that the handwritten digit data is already split into features and target (`digits`, `labels`). "
   ]
  },
  {
   "cell_type": "code",
   "execution_count": 3,
   "metadata": {},
   "outputs": [],
   "source": [
    "churn = pd.read_csv('data/telecom_churn.csv')\n",
    "digits, labels = load_digits(return_X_y=True)"
   ]
  },
  {
   "cell_type": "code",
   "execution_count": 4,
   "metadata": {},
   "outputs": [
    {
     "data": {
      "text/html": [
       "<div>\n",
       "<style scoped>\n",
       "    .dataframe tbody tr th:only-of-type {\n",
       "        vertical-align: middle;\n",
       "    }\n",
       "\n",
       "    .dataframe tbody tr th {\n",
       "        vertical-align: top;\n",
       "    }\n",
       "\n",
       "    .dataframe thead th {\n",
       "        text-align: right;\n",
       "    }\n",
       "</style>\n",
       "<table border=\"1\" class=\"dataframe\">\n",
       "  <thead>\n",
       "    <tr style=\"text-align: right;\">\n",
       "      <th></th>\n",
       "      <th>State</th>\n",
       "      <th>Account length</th>\n",
       "      <th>Area code</th>\n",
       "      <th>International plan</th>\n",
       "      <th>Voice mail plan</th>\n",
       "      <th>Number vmail messages</th>\n",
       "      <th>Total day minutes</th>\n",
       "      <th>Total day calls</th>\n",
       "      <th>Total day charge</th>\n",
       "      <th>Total eve minutes</th>\n",
       "      <th>Total eve calls</th>\n",
       "      <th>Total eve charge</th>\n",
       "      <th>Total night minutes</th>\n",
       "      <th>Total night calls</th>\n",
       "      <th>Total night charge</th>\n",
       "      <th>Total intl minutes</th>\n",
       "      <th>Total intl calls</th>\n",
       "      <th>Total intl charge</th>\n",
       "      <th>Customer service calls</th>\n",
       "      <th>Churn</th>\n",
       "    </tr>\n",
       "  </thead>\n",
       "  <tbody>\n",
       "    <tr>\n",
       "      <th>0</th>\n",
       "      <td>KS</td>\n",
       "      <td>128</td>\n",
       "      <td>415</td>\n",
       "      <td>No</td>\n",
       "      <td>Yes</td>\n",
       "      <td>25</td>\n",
       "      <td>265.1</td>\n",
       "      <td>110</td>\n",
       "      <td>45.07</td>\n",
       "      <td>197.4</td>\n",
       "      <td>99</td>\n",
       "      <td>16.78</td>\n",
       "      <td>244.7</td>\n",
       "      <td>91</td>\n",
       "      <td>11.01</td>\n",
       "      <td>10.0</td>\n",
       "      <td>3</td>\n",
       "      <td>2.70</td>\n",
       "      <td>1</td>\n",
       "      <td>False</td>\n",
       "    </tr>\n",
       "    <tr>\n",
       "      <th>1</th>\n",
       "      <td>OH</td>\n",
       "      <td>107</td>\n",
       "      <td>415</td>\n",
       "      <td>No</td>\n",
       "      <td>Yes</td>\n",
       "      <td>26</td>\n",
       "      <td>161.6</td>\n",
       "      <td>123</td>\n",
       "      <td>27.47</td>\n",
       "      <td>195.5</td>\n",
       "      <td>103</td>\n",
       "      <td>16.62</td>\n",
       "      <td>254.4</td>\n",
       "      <td>103</td>\n",
       "      <td>11.45</td>\n",
       "      <td>13.7</td>\n",
       "      <td>3</td>\n",
       "      <td>3.70</td>\n",
       "      <td>1</td>\n",
       "      <td>False</td>\n",
       "    </tr>\n",
       "    <tr>\n",
       "      <th>2</th>\n",
       "      <td>NJ</td>\n",
       "      <td>137</td>\n",
       "      <td>415</td>\n",
       "      <td>No</td>\n",
       "      <td>No</td>\n",
       "      <td>0</td>\n",
       "      <td>243.4</td>\n",
       "      <td>114</td>\n",
       "      <td>41.38</td>\n",
       "      <td>121.2</td>\n",
       "      <td>110</td>\n",
       "      <td>10.30</td>\n",
       "      <td>162.6</td>\n",
       "      <td>104</td>\n",
       "      <td>7.32</td>\n",
       "      <td>12.2</td>\n",
       "      <td>5</td>\n",
       "      <td>3.29</td>\n",
       "      <td>0</td>\n",
       "      <td>False</td>\n",
       "    </tr>\n",
       "    <tr>\n",
       "      <th>3</th>\n",
       "      <td>OH</td>\n",
       "      <td>84</td>\n",
       "      <td>408</td>\n",
       "      <td>Yes</td>\n",
       "      <td>No</td>\n",
       "      <td>0</td>\n",
       "      <td>299.4</td>\n",
       "      <td>71</td>\n",
       "      <td>50.90</td>\n",
       "      <td>61.9</td>\n",
       "      <td>88</td>\n",
       "      <td>5.26</td>\n",
       "      <td>196.9</td>\n",
       "      <td>89</td>\n",
       "      <td>8.86</td>\n",
       "      <td>6.6</td>\n",
       "      <td>7</td>\n",
       "      <td>1.78</td>\n",
       "      <td>2</td>\n",
       "      <td>False</td>\n",
       "    </tr>\n",
       "    <tr>\n",
       "      <th>4</th>\n",
       "      <td>OK</td>\n",
       "      <td>75</td>\n",
       "      <td>415</td>\n",
       "      <td>Yes</td>\n",
       "      <td>No</td>\n",
       "      <td>0</td>\n",
       "      <td>166.7</td>\n",
       "      <td>113</td>\n",
       "      <td>28.34</td>\n",
       "      <td>148.3</td>\n",
       "      <td>122</td>\n",
       "      <td>12.61</td>\n",
       "      <td>186.9</td>\n",
       "      <td>121</td>\n",
       "      <td>8.41</td>\n",
       "      <td>10.1</td>\n",
       "      <td>3</td>\n",
       "      <td>2.73</td>\n",
       "      <td>3</td>\n",
       "      <td>False</td>\n",
       "    </tr>\n",
       "  </tbody>\n",
       "</table>\n",
       "</div>"
      ],
      "text/plain": [
       "  State  Account length  Area code International plan Voice mail plan  \\\n",
       "0    KS             128        415                 No             Yes   \n",
       "1    OH             107        415                 No             Yes   \n",
       "2    NJ             137        415                 No              No   \n",
       "3    OH              84        408                Yes              No   \n",
       "4    OK              75        415                Yes              No   \n",
       "\n",
       "   Number vmail messages  Total day minutes  Total day calls  \\\n",
       "0                     25              265.1              110   \n",
       "1                     26              161.6              123   \n",
       "2                      0              243.4              114   \n",
       "3                      0              299.4               71   \n",
       "4                      0              166.7              113   \n",
       "\n",
       "   Total day charge  Total eve minutes  Total eve calls  Total eve charge  \\\n",
       "0             45.07              197.4               99             16.78   \n",
       "1             27.47              195.5              103             16.62   \n",
       "2             41.38              121.2              110             10.30   \n",
       "3             50.90               61.9               88              5.26   \n",
       "4             28.34              148.3              122             12.61   \n",
       "\n",
       "   Total night minutes  Total night calls  Total night charge  \\\n",
       "0                244.7                 91               11.01   \n",
       "1                254.4                103               11.45   \n",
       "2                162.6                104                7.32   \n",
       "3                196.9                 89                8.86   \n",
       "4                186.9                121                8.41   \n",
       "\n",
       "   Total intl minutes  Total intl calls  Total intl charge  \\\n",
       "0                10.0                 3               2.70   \n",
       "1                13.7                 3               3.70   \n",
       "2                12.2                 5               3.29   \n",
       "3                 6.6                 7               1.78   \n",
       "4                10.1                 3               2.73   \n",
       "\n",
       "   Customer service calls  Churn  \n",
       "0                       1  False  \n",
       "1                       1  False  \n",
       "2                       0  False  \n",
       "3                       2  False  \n",
       "4                       3  False  "
      ]
     },
     "execution_count": 4,
     "metadata": {},
     "output_type": "execute_result"
    }
   ],
   "source": [
    "#churn data\n",
    "churn.head()"
   ]
  },
  {
   "cell_type": "code",
   "execution_count": 5,
   "metadata": {},
   "outputs": [],
   "source": [
    "gs_models = {\n",
    "    'KNN': dict(\n",
    "        params = {\n",
    "            'n_neighbors': [3, 5, 7, 9],\n",
    "            'weights': ['uniform', 'distance'],\n",
    "        },\n",
    "        model = KNeighborsClassifier(),  \n",
    "    ),\n",
    "    'SVC': dict(\n",
    "        params = {\n",
    "            'C': [0.01, 0.1, 1, 10, 50],       \n",
    "            'kernel': ['linear', 'poly', 'rbf', 'sigmoid'],  \n",
    "            'gamma': ['scale', 'auto']\n",
    "        },\n",
    "        model = SVC(),  \n",
    "    ),\n",
    "    'DecisionTree': dict(\n",
    "        params = {\n",
    "            'criterion': ['gini', 'entropy'],\n",
    "            'max_depth': [None, 5, 10, 20],\n",
    "            'min_samples_split': [2, 5, 10, 20],\n",
    "            'min_samples_leaf': [1, 2, 4, 10]\n",
    "        },\n",
    "        model = DecisionTreeClassifier(),  \n",
    "    ),\n",
    "    'LogisticRegression': dict(\n",
    "        params = {\n",
    "            'C': [0.1, 1, 10],\n",
    "            'penalty': ['l1', 'l2'],     \n",
    "        },\n",
    "        model = LogisticRegression(max_iter=1500, solver=\"liblinear\"),  \n",
    "    ),\n",
    "}\n",
    "\n",
    "def run_modeling(X, y):\n",
    "    X_train, X_test, y_train, y_test = train_test_split(\n",
    "        X, y, test_size=0.3, random_state=42, stratify=y,\n",
    "    )\n",
    "    for model_name, model_metadata in gs_models.items():\n",
    "        gs_models[model_name][\"gridcv\"] = RandomizedSearchCV(\n",
    "            model_metadata[\"model\"],\n",
    "            param_distributions=model_metadata[\"params\"],\n",
    "            verbose=3,\n",
    "#             n_jobs=-1,\n",
    "            return_train_score=True,\n",
    "            random_state=42,\n",
    "            n_iter = 50\n",
    "        ).fit(X_train, y_train)\n",
    "        \n",
    "    for model_name, model_data in gs_models.items():\n",
    "        print(model_name, model_data[\"gridcv\"].best_params_)\n",
    "        \n",
    "    results = pd.DataFrame.from_records(\n",
    "        [\n",
    "            {\n",
    "                \"model\": model_name, \n",
    "                \"train score\": model_data[\"gridcv\"].score(X_train, y_train),\n",
    "                \"test score\": model_data[\"gridcv\"].score(X_test, y_test),\n",
    "                \"fit time\": np.mean(model_data[\"gridcv\"].cv_results_[\"mean_fit_time\"]),\n",
    "            }\n",
    "            for model_name, model_data in gs_models.items()\n",
    "        ],\n",
    "        index=\"model\",\n",
    "    )\n",
    "\n",
    "    return results\n",
    "\n"
   ]
  },
  {
   "cell_type": "code",
   "execution_count": null,
   "metadata": {},
   "outputs": [],
   "source": []
  },
  {
   "cell_type": "markdown",
   "metadata": {},
   "source": [
    "Task 1\n"
   ]
  },
  {
   "cell_type": "code",
   "execution_count": null,
   "metadata": {},
   "outputs": [
    {
     "name": "stderr",
     "output_type": "stream",
     "text": [
      "/opt/anaconda3/lib/python3.11/site-packages/sklearn/model_selection/_search.py:320: UserWarning: The total space of parameters 8 is smaller than n_iter=50. Running 8 iterations. For exhaustive searches, use GridSearchCV.\n",
      "  warnings.warn(\n"
     ]
    },
    {
     "name": "stdout",
     "output_type": "stream",
     "text": [
      "Fitting 5 folds for each of 8 candidates, totalling 40 fits\n",
      "[CV 1/5] END n_neighbors=3, weights=uniform;, score=(train=0.909, test=0.844) total time=   0.0s\n",
      "[CV 2/5] END n_neighbors=3, weights=uniform;, score=(train=0.909, test=0.850) total time=   0.0s\n",
      "[CV 3/5] END n_neighbors=3, weights=uniform;, score=(train=0.902, test=0.861) total time=   0.0s\n",
      "[CV 4/5] END n_neighbors=3, weights=uniform;, score=(train=0.902, test=0.861) total time=   0.0s\n",
      "[CV 5/5] END n_neighbors=3, weights=uniform;, score=(train=0.907, test=0.878) total time=   0.0s\n",
      "[CV 1/5] END n_neighbors=3, weights=distance;, score=(train=1.000, test=0.844) total time=   0.0s\n",
      "[CV 2/5] END n_neighbors=3, weights=distance;, score=(train=1.000, test=0.848) total time=   0.0s\n",
      "[CV 3/5] END n_neighbors=3, weights=distance;, score=(train=1.000, test=0.861) total time=   0.0s\n",
      "[CV 4/5] END n_neighbors=3, weights=distance;, score=(train=1.000, test=0.861) total time=   0.0s\n",
      "[CV 5/5] END n_neighbors=3, weights=distance;, score=(train=1.000, test=0.876) total time=   0.0s\n",
      "[CV 1/5] END n_neighbors=5, weights=uniform;, score=(train=0.897, test=0.850) total time=   0.0s\n",
      "[CV 2/5] END n_neighbors=5, weights=uniform;, score=(train=0.897, test=0.861) total time=   0.0s\n",
      "[CV 3/5] END n_neighbors=5, weights=uniform;, score=(train=0.886, test=0.878) total time=   0.0s\n",
      "[CV 4/5] END n_neighbors=5, weights=uniform;, score=(train=0.892, test=0.867) total time=   0.0s\n",
      "[CV 5/5] END n_neighbors=5, weights=uniform;, score=(train=0.894, test=0.882) total time=   0.0s\n",
      "[CV 1/5] END n_neighbors=5, weights=distance;, score=(train=1.000, test=0.850) total time=   0.0s\n",
      "[CV 2/5] END n_neighbors=5, weights=distance;, score=(train=1.000, test=0.861) total time=   0.0s\n",
      "[CV 3/5] END n_neighbors=5, weights=distance;, score=(train=1.000, test=0.878) total time=   0.0s\n",
      "[CV 4/5] END n_neighbors=5, weights=distance;, score=(train=1.000, test=0.865) total time=   0.0s\n",
      "[CV 5/5] END n_neighbors=5, weights=distance;, score=(train=1.000, test=0.882) total time=   0.0s\n",
      "[CV 1/5] END n_neighbors=7, weights=uniform;, score=(train=0.892, test=0.861) total time=   0.0s\n",
      "[CV 2/5] END n_neighbors=7, weights=uniform;, score=(train=0.892, test=0.872) total time=   0.0s\n",
      "[CV 3/5] END n_neighbors=7, weights=uniform;, score=(train=0.884, test=0.880) total time=   0.0s\n",
      "[CV 4/5] END n_neighbors=7, weights=uniform;, score=(train=0.885, test=0.871) total time=   0.0s\n",
      "[CV 5/5] END n_neighbors=7, weights=uniform;, score=(train=0.889, test=0.897) total time=   0.0s\n",
      "[CV 1/5] END n_neighbors=7, weights=distance;, score=(train=1.000, test=0.859) total time=   0.0s\n",
      "[CV 2/5] END n_neighbors=7, weights=distance;, score=(train=1.000, test=0.872) total time=   0.0s\n",
      "[CV 3/5] END n_neighbors=7, weights=distance;, score=(train=1.000, test=0.880) total time=   0.0s\n",
      "[CV 4/5] END n_neighbors=7, weights=distance;, score=(train=1.000, test=0.871) total time=   0.0s\n",
      "[CV 5/5] END n_neighbors=7, weights=distance;, score=(train=1.000, test=0.897) total time=   0.0s\n",
      "[CV 1/5] END n_neighbors=9, weights=uniform;, score=(train=0.892, test=0.867) total time=   0.0s\n",
      "[CV 2/5] END n_neighbors=9, weights=uniform;, score=(train=0.887, test=0.882) total time=   0.0s\n",
      "[CV 3/5] END n_neighbors=9, weights=uniform;, score=(train=0.882, test=0.884) total time=   0.0s\n",
      "[CV 4/5] END n_neighbors=9, weights=uniform;, score=(train=0.883, test=0.863) total time=   0.0s\n",
      "[CV 5/5] END n_neighbors=9, weights=uniform;, score=(train=0.888, test=0.891) total time=   0.0s\n",
      "[CV 1/5] END n_neighbors=9, weights=distance;, score=(train=1.000, test=0.863) total time=   0.0s\n",
      "[CV 2/5] END n_neighbors=9, weights=distance;, score=(train=1.000, test=0.882) total time=   0.0s\n",
      "[CV 3/5] END n_neighbors=9, weights=distance;, score=(train=1.000, test=0.884) total time=   0.0s\n",
      "[CV 4/5] END n_neighbors=9, weights=distance;, score=(train=1.000, test=0.867) total time=   0.0s\n",
      "[CV 5/5] END n_neighbors=9, weights=distance;, score=(train=1.000, test=0.891) total time=   0.0s\n",
      "Fitting 5 folds for each of 40 candidates, totalling 200 fits\n"
     ]
    },
    {
     "name": "stderr",
     "output_type": "stream",
     "text": [
      "/opt/anaconda3/lib/python3.11/site-packages/sklearn/model_selection/_search.py:320: UserWarning: The total space of parameters 40 is smaller than n_iter=50. Running 40 iterations. For exhaustive searches, use GridSearchCV.\n",
      "  warnings.warn(\n"
     ]
    },
    {
     "name": "stdout",
     "output_type": "stream",
     "text": [
      "[CV 1/5] END C=0.01, gamma=scale, kernel=linear;, score=(train=0.855, test=0.854) total time=   9.4s\n",
      "[CV 2/5] END C=0.01, gamma=scale, kernel=linear;, score=(train=0.855, test=0.854) total time=   8.7s\n",
      "[CV 3/5] END C=0.01, gamma=scale, kernel=linear;, score=(train=0.855, test=0.854) total time=   9.7s\n",
      "[CV 4/5] END C=0.01, gamma=scale, kernel=linear;, score=(train=0.855, test=0.856) total time=   9.0s\n",
      "[CV 5/5] END C=0.01, gamma=scale, kernel=linear;, score=(train=0.855, test=0.856) total time=   8.5s\n",
      "[CV 1/5] END C=0.01, gamma=scale, kernel=poly;, score=(train=0.855, test=0.854) total time=   0.0s\n",
      "[CV 2/5] END C=0.01, gamma=scale, kernel=poly;, score=(train=0.855, test=0.854) total time=   0.0s\n",
      "[CV 3/5] END C=0.01, gamma=scale, kernel=poly;, score=(train=0.855, test=0.854) total time=   0.0s\n",
      "[CV 4/5] END C=0.01, gamma=scale, kernel=poly;, score=(train=0.855, test=0.856) total time=   0.0s\n",
      "[CV 5/5] END C=0.01, gamma=scale, kernel=poly;, score=(train=0.855, test=0.856) total time=   0.0s\n",
      "[CV 1/5] END C=0.01, gamma=scale, kernel=rbf;, score=(train=0.855, test=0.854) total time=   0.0s\n",
      "[CV 2/5] END C=0.01, gamma=scale, kernel=rbf;, score=(train=0.855, test=0.854) total time=   0.0s\n",
      "[CV 3/5] END C=0.01, gamma=scale, kernel=rbf;, score=(train=0.855, test=0.854) total time=   0.0s\n",
      "[CV 4/5] END C=0.01, gamma=scale, kernel=rbf;, score=(train=0.855, test=0.856) total time=   0.0s\n",
      "[CV 5/5] END C=0.01, gamma=scale, kernel=rbf;, score=(train=0.855, test=0.856) total time=   0.0s\n",
      "[CV 1/5] END C=0.01, gamma=scale, kernel=sigmoid;, score=(train=0.855, test=0.854) total time=   0.0s\n",
      "[CV 2/5] END C=0.01, gamma=scale, kernel=sigmoid;, score=(train=0.855, test=0.854) total time=   0.0s\n",
      "[CV 3/5] END C=0.01, gamma=scale, kernel=sigmoid;, score=(train=0.855, test=0.854) total time=   0.0s\n",
      "[CV 4/5] END C=0.01, gamma=scale, kernel=sigmoid;, score=(train=0.855, test=0.856) total time=   0.0s\n",
      "[CV 5/5] END C=0.01, gamma=scale, kernel=sigmoid;, score=(train=0.855, test=0.856) total time=   0.0s\n",
      "[CV 1/5] END C=0.01, gamma=auto, kernel=linear;, score=(train=0.855, test=0.854) total time=   9.6s\n",
      "[CV 2/5] END C=0.01, gamma=auto, kernel=linear;, score=(train=0.855, test=0.854) total time=   8.8s\n",
      "[CV 3/5] END C=0.01, gamma=auto, kernel=linear;, score=(train=0.855, test=0.854) total time=   9.4s\n",
      "[CV 4/5] END C=0.01, gamma=auto, kernel=linear;, score=(train=0.855, test=0.856) total time=   8.8s\n",
      "[CV 5/5] END C=0.01, gamma=auto, kernel=linear;, score=(train=0.855, test=0.856) total time=   8.4s\n"
     ]
    }
   ],
   "source": [
    "X = churn.drop('Churn', axis=1).copy()\n",
    "y = churn['Churn'].copy()\n",
    "\n",
    "X = X.drop(X.select_dtypes(object).columns, axis=1).drop('Area code', axis=1)\n",
    "y = y.map({True: 1, False: 0})\n",
    "\n",
    "results_churn = run_modeling(X, y)"
   ]
  },
  {
   "cell_type": "code",
   "execution_count": null,
   "metadata": {},
   "outputs": [],
   "source": [
    "results_churn = run_models(X_train, y_train)"
   ]
  },
  {
   "cell_type": "code",
   "execution_count": null,
   "metadata": {},
   "outputs": [],
   "source": []
  },
  {
   "cell_type": "code",
   "execution_count": null,
   "metadata": {},
   "outputs": [],
   "source": []
  },
  {
   "cell_type": "code",
   "execution_count": null,
   "metadata": {},
   "outputs": [],
   "source": []
  },
  {
   "cell_type": "code",
   "execution_count": null,
   "metadata": {},
   "outputs": [],
   "source": []
  },
  {
   "cell_type": "code",
   "execution_count": null,
   "metadata": {},
   "outputs": [],
   "source": []
  },
  {
   "cell_type": "code",
   "execution_count": null,
   "metadata": {},
   "outputs": [],
   "source": []
  },
  {
   "cell_type": "code",
   "execution_count": null,
   "metadata": {},
   "outputs": [],
   "source": []
  },
  {
   "cell_type": "code",
   "execution_count": null,
   "metadata": {},
   "outputs": [],
   "source": []
  },
  {
   "cell_type": "code",
   "execution_count": null,
   "metadata": {},
   "outputs": [],
   "source": []
  },
  {
   "cell_type": "code",
   "execution_count": null,
   "metadata": {},
   "outputs": [],
   "source": []
  },
  {
   "cell_type": "code",
   "execution_count": null,
   "metadata": {},
   "outputs": [],
   "source": []
  },
  {
   "cell_type": "code",
   "execution_count": null,
   "metadata": {},
   "outputs": [],
   "source": []
  },
  {
   "cell_type": "markdown",
   "metadata": {},
   "source": [
    "**TASK 2**: Recognizing Handwritten Digits\n",
    "\n",
    "Suppose you are tasked with training a model to recognize handwritten digits.  Which of your classifier would you use here and why?  Again, be sure to consider the balance of classes, speed of training, and importance of interpretability.\n",
    "\n"
   ]
  },
  {
   "cell_type": "code",
   "execution_count": null,
   "metadata": {},
   "outputs": [],
   "source": [
    "#example image\n",
    "plt.imshow(digits[0].reshape(8, 8))\n",
    "plt.title('This is a handwritten 0.');"
   ]
  },
  {
   "cell_type": "code",
   "execution_count": null,
   "metadata": {},
   "outputs": [],
   "source": [
    "digits_results = run_modeling(digits, labels)"
   ]
  },
  {
   "cell_type": "code",
   "execution_count": null,
   "metadata": {},
   "outputs": [],
   "source": []
  },
  {
   "cell_type": "code",
   "execution_count": null,
   "metadata": {},
   "outputs": [],
   "source": []
  },
  {
   "cell_type": "code",
   "execution_count": null,
   "metadata": {},
   "outputs": [],
   "source": []
  },
  {
   "cell_type": "code",
   "execution_count": null,
   "metadata": {},
   "outputs": [],
   "source": []
  },
  {
   "cell_type": "code",
   "execution_count": null,
   "metadata": {},
   "outputs": [],
   "source": []
  },
  {
   "cell_type": "code",
   "execution_count": null,
   "metadata": {},
   "outputs": [],
   "source": []
  },
  {
   "cell_type": "code",
   "execution_count": null,
   "metadata": {},
   "outputs": [],
   "source": []
  },
  {
   "cell_type": "code",
   "execution_count": null,
   "metadata": {},
   "outputs": [],
   "source": []
  },
  {
   "cell_type": "code",
   "execution_count": null,
   "metadata": {},
   "outputs": [],
   "source": []
  },
  {
   "cell_type": "code",
   "execution_count": null,
   "metadata": {},
   "outputs": [],
   "source": []
  },
  {
   "cell_type": "code",
   "execution_count": null,
   "metadata": {},
   "outputs": [],
   "source": []
  }
 ],
 "metadata": {
  "kernelspec": {
   "display_name": "Python 3 (ipykernel)",
   "language": "python",
   "name": "python3"
  },
  "language_info": {
   "codemirror_mode": {
    "name": "ipython",
    "version": 3
   },
   "file_extension": ".py",
   "mimetype": "text/x-python",
   "name": "python",
   "nbconvert_exporter": "python",
   "pygments_lexer": "ipython3",
   "version": "3.11.7"
  }
 },
 "nbformat": 4,
 "nbformat_minor": 4
}
