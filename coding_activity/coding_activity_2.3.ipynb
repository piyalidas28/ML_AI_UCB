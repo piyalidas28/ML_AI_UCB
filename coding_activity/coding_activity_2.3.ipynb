{
 "cells": [
  {
   "cell_type": "markdown",
   "metadata": {
    "nbgrader": {
     "grade": false,
     "grade_id": "cell-0bff1a324f359386",
     "locked": true,
     "schema_version": 1,
     "solution": false
    }
   },
   "source": [
    "## Codio Activity 2.3: The Law of Large Numbers\n",
    "\n",
    "**Expected Time: 45 Minutes**\n",
    "\n",
    "**Total Points: 10**\n",
    "\n",
    "In this activity, you will draw increasingly sized samples from a given distribution.  These samples means will be tracked, and compared to that which is known from the larger distribution.  You are to use the `scipy.stats` module and its distribution objects to produce these distributions and their samples.\n",
    "\n",
    "## Index:\n",
    "\n",
    "- [Problem 1](#Problem-1:-A-Uniform-Distribution)\n",
    "- [Problem 2](#Problem-2:-Loop-of-Samples)\n",
    "- [Problem 3](#Problem-3:-Comparing-the-sample-means-to-actual)\n",
    "- [Problem 4](#Problem-4:-Distribution-of-Sample-Means)\n",
    "- [Problem 5](#Problem-5:-Repeat-with-Gaussian-Distribution)\n"
   ]
  },
  {
   "cell_type": "code",
   "execution_count": 1,
   "metadata": {},
   "outputs": [],
   "source": [
    "import numpy as np\n",
    "import pandas as pd\n",
    "import matplotlib.pyplot as plt\n",
    "from scipy.stats import uniform, norm"
   ]
  },
  {
   "cell_type": "markdown",
   "metadata": {
    "nbgrader": {
     "grade": false,
     "grade_id": "cell-0599760f8eb84292",
     "locked": true,
     "schema_version": 1,
     "solution": false
    }
   },
   "source": [
    "[Back to top](#Index:) \n",
    "\n",
    "### Problem 1: A Uniform Distribution\n",
    "\n",
    "**2 Points**\n",
    "\n",
    "\n",
    "Create a uniform distribution with `loc = 5` and `scale = 10`.  Assign your results as a distribution object to `dist1` below. Done correctly, this code will produce uniformly distributed points between 5 and 15 with mean at 10."
   ]
  },
  {
   "cell_type": "code",
   "execution_count": 2,
   "metadata": {
    "nbgrader": {
     "grade": false,
     "grade_id": "cell-e19a29726f7a7f59",
     "locked": false,
     "schema_version": 1,
     "solution": true
    }
   },
   "outputs": [
    {
     "name": "stdout",
     "output_type": "stream",
     "text": [
      "<class 'scipy.stats._distn_infrastructure.rv_frozen'>\n"
     ]
    }
   ],
   "source": [
    "### GRADED\n",
    "\n",
    "dist1 = ''\n",
    "\n",
    "### BEGIN SOLUTION\n",
    "dist1 = uniform(loc = 5, scale = 10)\n",
    "### END SOLUTION\n",
    "\n",
    "# Answer check\n",
    "print(type(dist1))"
   ]
  },
  {
   "cell_type": "code",
   "execution_count": 3,
   "metadata": {
    "nbgrader": {
     "grade": true,
     "grade_id": "cell-9a4f21b04dc4095d",
     "locked": true,
     "points": 2,
     "schema_version": 1,
     "solution": false
    }
   },
   "outputs": [],
   "source": [
    "### BEGIN HIDDEN TESTS\n",
    "dist1_ = uniform(loc = 5, scale = 10)\n",
    "#\n",
    "#\n",
    "#\n",
    "assert type(dist1_) == type(dist1)\n",
    "assert dist1.mean() == dist1_.mean(), 'Make sure the mean is 10.'\n",
    "### END HIDDEN TESTS"
   ]
  },
  {
   "cell_type": "markdown",
   "metadata": {
    "nbgrader": {
     "grade": false,
     "grade_id": "cell-715829a75ba9fccc",
     "locked": true,
     "schema_version": 1,
     "solution": false
    }
   },
   "source": [
    "###  Problem 2: Loop of Samples\n",
    "\n",
    "**2 Points**\n",
    "\n",
    "Now, you are to generate samples of size 1 - 500 using `dist1`'s `.rvs` method including the `random_state = 22`.  For each sample, append the sample mean to the list `sample_means`.  "
   ]
  },
  {
   "cell_type": "code",
   "execution_count": 4,
   "metadata": {
    "nbgrader": {
     "grade": false,
     "grade_id": "cell-e6ebb7028e816557",
     "locked": false,
     "schema_version": 1,
     "solution": true
    }
   },
   "outputs": [
    {
     "name": "stdout",
     "output_type": "stream",
     "text": [
      "<class 'list'>\n",
      "[7.084605373588426, 8.450707995611044, 8.702265448121944, 9.924654082394818, 9.2820463731392] \n",
      " [9.917152492762177, 9.92702320427582, 9.923037839990696, 9.921343577252099, 9.926403777871194]\n"
     ]
    }
   ],
   "source": [
    "### GRADED\n",
    "\n",
    "sample_means = []\n",
    "\n",
    "#loop over values 1 - 500\n",
    "\n",
    "    #generate samples \n",
    "    #remember the random_state\n",
    "    \n",
    "    #find sample mean\n",
    "    \n",
    "    #append mean to sample_means\n",
    "\n",
    "### BEGIN SOLUTION\n",
    "dist1 = uniform(loc = 5, scale = 10)\n",
    "sample_means = []\n",
    "for i in range(1, 501):\n",
    "    sample = dist1.rvs(i, random_state = 22)\n",
    "    sample_mean = np.mean(sample)\n",
    "    sample_means.append(sample_mean)\n",
    "### END SOLUTION\n",
    "\n",
    "# Answer check\n",
    "print(type(sample_means))\n",
    "print(sample_means[:5], '\\n', sample_means[-5:])"
   ]
  },
  {
   "cell_type": "code",
   "execution_count": 5,
   "metadata": {
    "nbgrader": {
     "grade": true,
     "grade_id": "cell-bc94c886e9ac3ab7",
     "locked": true,
     "points": 2,
     "schema_version": 1,
     "solution": false
    }
   },
   "outputs": [],
   "source": [
    "### BEGIN HIDDEN TESTS\n",
    "dist1_ = uniform(loc = 5, scale = 10)\n",
    "sample_means_ = []\n",
    "for i in range(1, 501):\n",
    "    sample_ = dist1_.rvs(i, random_state = 22)\n",
    "    sample_mean_ = np.mean(sample_)\n",
    "    sample_means_.append(sample_mean_)\n",
    "#\n",
    "#\n",
    "#\n",
    "assert type(dist1_) == type(dist1)\n",
    "assert len(sample_means) == len(sample_means_), 'Make sure you have 500 sample means'\n",
    "assert sample_means == sample_means_, 'Make sure you have determined the mean of the samples.'\n",
    "### END HIDDEN TESTS"
   ]
  },
  {
   "cell_type": "markdown",
   "metadata": {
    "nbgrader": {
     "grade": false,
     "grade_id": "cell-6b3e8778dd9e4f7b",
     "locked": true,
     "schema_version": 1,
     "solution": false
    }
   },
   "source": [
    "### Problem 3: Comparing the sample means to actual\n",
    "\n",
    "**2 Points**\n",
    "\n",
    "Note that the actual mean of our data is 10.  The code below will generate a plot that compares the actual mean to the sampled means.  Do the sample means approximate the true mean with error less than .1 if the sample size is 400?  Assign your answer as a boolean value to `ans3` below -- True for yes, False for no.  Plot the results using the code below.\n",
    "\n",
    "```python\n",
    "plt.plot(range(1, 501), sample_means, label = 'sample mean', color = 'purple')\n",
    "plt.axhline(10, label = 'true mean', color = 'green')\n",
    "plt.xlabel('Sample Size')\n",
    "plt.legend();\n",
    "```"
   ]
  },
  {
   "cell_type": "code",
   "execution_count": 6,
   "metadata": {
    "nbgrader": {
     "grade": false,
     "grade_id": "cell-760f114b86f46710",
     "locked": false,
     "schema_version": 1,
     "solution": true
    }
   },
   "outputs": [
    {
     "name": "stdout",
     "output_type": "stream",
     "text": [
      "<class 'numpy.bool_'>\n"
     ]
    }
   ],
   "source": [
    "### GRADED\n",
    "\n",
    "ans3 = ''\n",
    "\n",
    "### BEGIN SOLUTION\n",
    "ans3 = abs(sample_means[399] - 10) < .1\n",
    "### END SOLUTION\n",
    "\n",
    "# Answer check\n",
    "print(type(ans3))"
   ]
  },
  {
   "cell_type": "code",
   "execution_count": 7,
   "metadata": {
    "nbgrader": {
     "grade": true,
     "grade_id": "cell-6594e29aae39c71d",
     "locked": true,
     "points": 2,
     "schema_version": 1,
     "solution": false
    }
   },
   "outputs": [],
   "source": [
    "### BEGIN HIDDEN TESTS\n",
    "ans3_ = abs(sample_means[399] - 10) < .1\n",
    "#\n",
    "#\n",
    "#\n",
    "assert ans3_ == ans3, 'Check sample_means[399] against 10.'\n",
    "### END HIDDEN TESTS"
   ]
  },
  {
   "cell_type": "markdown",
   "metadata": {
    "nbgrader": {
     "grade": false,
     "grade_id": "cell-6860b63501e42b25",
     "locked": true,
     "schema_version": 1,
     "solution": false
    }
   },
   "source": [
    "### Problem 4: Distribution of Sample Means\n",
    "\n",
    "**2 Points**\n",
    "\n",
    "As you notice in the plot above, there is larger variation in the small sample sizes.  As the lectures suggest, consider only those samples of size 30 or more and compute their mean and standard deviation.  Assign the samples as a list to `samples_30_or_more` below and compute the mean of these samples and thier standard deviation.  Assign the mean and deviation to `samples_mean` and `samples_std` below.  Uncomment the code to see a histogram of these sample means.  \n",
    "\n",
    "HINT: remember that Python starts counting at 0, so using 'sample_means[30:]' is actually incorrect."
   ]
  },
  {
   "cell_type": "code",
   "execution_count": 8,
   "metadata": {
    "nbgrader": {
     "grade": false,
     "grade_id": "cell-6b84832c8690fe91",
     "locked": false,
     "schema_version": 1,
     "solution": true
    }
   },
   "outputs": [
    {
     "name": "stdout",
     "output_type": "stream",
     "text": [
      "<class 'list'>\n",
      "9.954879356818662\n",
      "0.07586422746453239\n"
     ]
    }
   ],
   "source": [
    "### GRADED\n",
    "\n",
    "samples_30_or_more = ''\n",
    "samples_mean = ''\n",
    "samples_std = ''\n",
    "\n",
    "### BEGIN SOLUTION\n",
    "samples_30_or_more = sample_means[29:]\n",
    "samples_mean = np.mean(samples_30_or_more)\n",
    "samples_std = np.std(samples_30_or_more)\n",
    "### END SOLUTION\n",
    "\n",
    "\n",
    "#plt.hist(samples_30_or_more, edgecolor = 'black', alpha = 0.3)\n",
    "#plt.title('Distribution of Sample Means');\n",
    "\n",
    "# Answer check\n",
    "print(type(samples_30_or_more))\n",
    "print(samples_mean)\n",
    "print(samples_std)"
   ]
  },
  {
   "cell_type": "code",
   "execution_count": 9,
   "metadata": {
    "nbgrader": {
     "grade": true,
     "grade_id": "cell-f6ed5c17860c5ee5",
     "locked": true,
     "points": 2,
     "schema_version": 1,
     "solution": false
    }
   },
   "outputs": [],
   "source": [
    "### BEGIN HIDDEN TESTS\n",
    "samples_30_or_more_ = sample_means_[29:]\n",
    "samples_mean_ = np.mean(samples_30_or_more_)\n",
    "samples_std_ = np.std(samples_30_or_more_)\n",
    "#\n",
    "#\n",
    "#\n",
    "assert samples_30_or_more == samples_30_or_more_, 'Samples of 30 or more.'\n",
    "assert samples_mean == samples_mean_\n",
    "assert samples_std_ == samples_std\n",
    "### END HIDDEN TESTS"
   ]
  },
  {
   "cell_type": "markdown",
   "metadata": {
    "nbgrader": {
     "grade": false,
     "grade_id": "cell-81d097c21d8b29eb",
     "locked": true,
     "schema_version": 1,
     "solution": false
    }
   },
   "source": [
    "### Problem 5: Repeat with Gaussian Distribution\n",
    "\n",
    "**2 Points**\n",
    "\n",
    "Now, you are to repeat the above exercise using samples from a Normal distribution centered at 5 with standard deviation 10.  Draw samples size 30 - 500 and examine their mean and deviation.  Assign the ditribution object to `gauss_dist`, the sample to the list `sample_means_gauss`, the sample mean to `gauss_mean` and standard deviation to `gauss_standard_deviation` below. Use `random_state = 22`"
   ]
  },
  {
   "cell_type": "code",
   "execution_count": 10,
   "metadata": {
    "nbgrader": {
     "grade": false,
     "grade_id": "cell-66731bec3448d1a4",
     "locked": false,
     "schema_version": 1,
     "solution": true
    }
   },
   "outputs": [
    {
     "name": "stdout",
     "output_type": "stream",
     "text": [
      "<class 'list'>\n",
      "[5.711989769815023, 6.495208371007466, 5.670348611610735, 5.578864596890512, 5.5331440323908465] \n",
      " [5.85212242634483, 5.842782955969858, 5.840843359217326, 5.834153785572032, 5.841178380882507]\n",
      "5.568508473194311\n",
      "0.5371819419572758\n"
     ]
    }
   ],
   "source": [
    "### GRADED\n",
    "\n",
    "gauss_dist = ''\n",
    "sample_means_gauss = []\n",
    "\n",
    "#create the distribution object\n",
    "\n",
    "#loop over values 30 - 500\n",
    "\n",
    "    #generate samples \n",
    "    #remember the random_state\n",
    "    \n",
    "    #find sample mean\n",
    "    \n",
    "    #append mean to sample_means\n",
    "\n",
    "gauss_mean = ''\n",
    "gauss_standard_deviation = ''\n",
    "\n",
    "\n",
    "### BEGIN SOLUTION\n",
    "gauss_dist = norm(loc = 5, scale = 10)\n",
    "sample_means_gauss = []\n",
    "for i in range(30, 501):\n",
    "    sample = gauss_dist.rvs(i, random_state = 22)\n",
    "    sample_mean = np.mean(sample)\n",
    "    sample_means_gauss.append(sample_mean)\n",
    "    \n",
    "gauss_mean = np.mean(sample_means_gauss)\n",
    "gauss_standard_deviation = np.std(sample_means_gauss)\n",
    "### END SOLUTION\n",
    "\n",
    "# Answer check\n",
    "print(type(sample_means_gauss))\n",
    "print(sample_means_gauss[:5], '\\n', sample_means_gauss[-5:])\n",
    "print(gauss_mean)\n",
    "print(gauss_standard_deviation)"
   ]
  },
  {
   "cell_type": "code",
   "execution_count": 11,
   "metadata": {
    "nbgrader": {
     "grade": true,
     "grade_id": "cell-19ef7e3915134b47",
     "locked": true,
     "points": 2,
     "schema_version": 1,
     "solution": false
    }
   },
   "outputs": [],
   "source": [
    "### BEGIN HIDDEN TESTS\n",
    "gauss_dist_ = norm(loc = 5, scale = 10)\n",
    "sample_means_gauss_ = []\n",
    "for i in range(30, 501):\n",
    "    sample_ = gauss_dist_.rvs(i, random_state = 22)\n",
    "    sample_mean_ = np.mean(sample_)\n",
    "    sample_means_gauss_.append(sample_mean_)\n",
    "    \n",
    "gauss_mean_ = np.mean(sample_means_gauss_)\n",
    "gauss_standard_deviation_ = np.std(sample_means_gauss_)\n",
    "#\n",
    "#\n",
    "#\n",
    "assert gauss_mean_ == gauss_mean, 'Check that youve computed the sample means'\n",
    "assert gauss_standard_deviation == gauss_standard_deviation_, 'Standard Deviations do not match'\n",
    "assert type(gauss_dist) == type(gauss_dist_)\n",
    "### END HIDDEN TESTS"
   ]
  }
 ],
 "metadata": {
  "celltoolbar": "Create Assignment",
  "kernelspec": {
   "display_name": "Python 3 (ipykernel)",
   "language": "python",
   "name": "python3"
  },
  "language_info": {
   "codemirror_mode": {
    "name": "ipython",
    "version": 3
   },
   "file_extension": ".py",
   "mimetype": "text/x-python",
   "name": "python",
   "nbconvert_exporter": "python",
   "pygments_lexer": "ipython3",
   "version": "3.11.5"
  }
 },
 "nbformat": 4,
 "nbformat_minor": 2
}
