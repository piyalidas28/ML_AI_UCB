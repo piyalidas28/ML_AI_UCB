{
 "cells": [
  {
   "cell_type": "markdown",
   "metadata": {
    "nbgrader": {
     "grade": false,
     "grade_id": "cell-ea6adcdba6a15fba",
     "locked": true,
     "schema_version": 1,
     "solution": false
    }
   },
   "source": [
    "### Codio Activity 3.5: Sorting and Aggregating\n",
    "\n",
    "**Expected Time**: 60 Minutes\n",
    "\n",
    "**Total Points**: 10\n",
    "\n",
    "This activity focuses on sorting the results of a groupby operation. The dataset is again the gapminder data from plotly.  Your tasks involve aggregating and sorting as well as plotting summary results using `matplotlib`, `seaborn`, and `plotly`.\n",
    "\n",
    "#### Index:\n",
    "\n",
    "- [Problem 1](#Problem-1:-Lowest-to-Highest-Average-Life-Expectancy)\n",
    "- [Problem 2](#Problem-2:-Sorting-GDP)\n",
    "- [Problem 3](#Problem-3:-Sorting-Results-of-Multiple-Aggregates)\n",
    "- [Problem 4](#Problem-4:-Sorting-Custom-Outputs)\n",
    "- [Problem 5](#Problem-5:-Applying-the-\\`column_range\\`-function)"
   ]
  },
  {
   "cell_type": "code",
   "execution_count": 1,
   "metadata": {
    "nbgrader": {
     "grade": false,
     "grade_id": "cell-3d34886fad60d0be",
     "locked": true,
     "schema_version": 1,
     "solution": false
    }
   },
   "outputs": [],
   "source": [
    "import plotly.express as px\n",
    "import pandas as pd\n",
    "import numpy as np\n",
    "import seaborn as sns\n",
    "import matplotlib.pyplot as plt"
   ]
  },
  {
   "cell_type": "code",
   "execution_count": 2,
   "metadata": {
    "nbgrader": {
     "grade": false,
     "grade_id": "cell-76f0f79f7da57214",
     "locked": true,
     "schema_version": 1,
     "solution": false
    }
   },
   "outputs": [],
   "source": [
    "gapminder = px.data.gapminder()"
   ]
  },
  {
   "cell_type": "code",
   "execution_count": 3,
   "metadata": {
    "nbgrader": {
     "grade": false,
     "grade_id": "cell-d6b7f3d8a857ca14",
     "locked": true,
     "schema_version": 1,
     "solution": false
    }
   },
   "outputs": [
    {
     "data": {
      "text/html": [
       "<div>\n",
       "<style scoped>\n",
       "    .dataframe tbody tr th:only-of-type {\n",
       "        vertical-align: middle;\n",
       "    }\n",
       "\n",
       "    .dataframe tbody tr th {\n",
       "        vertical-align: top;\n",
       "    }\n",
       "\n",
       "    .dataframe thead th {\n",
       "        text-align: right;\n",
       "    }\n",
       "</style>\n",
       "<table border=\"1\" class=\"dataframe\">\n",
       "  <thead>\n",
       "    <tr style=\"text-align: right;\">\n",
       "      <th></th>\n",
       "      <th>country</th>\n",
       "      <th>continent</th>\n",
       "      <th>year</th>\n",
       "      <th>lifeExp</th>\n",
       "      <th>pop</th>\n",
       "      <th>gdpPercap</th>\n",
       "      <th>iso_alpha</th>\n",
       "      <th>iso_num</th>\n",
       "    </tr>\n",
       "  </thead>\n",
       "  <tbody>\n",
       "    <tr>\n",
       "      <th>0</th>\n",
       "      <td>Afghanistan</td>\n",
       "      <td>Asia</td>\n",
       "      <td>1952</td>\n",
       "      <td>28.801</td>\n",
       "      <td>8425333</td>\n",
       "      <td>779.445314</td>\n",
       "      <td>AFG</td>\n",
       "      <td>4</td>\n",
       "    </tr>\n",
       "    <tr>\n",
       "      <th>1</th>\n",
       "      <td>Afghanistan</td>\n",
       "      <td>Asia</td>\n",
       "      <td>1957</td>\n",
       "      <td>30.332</td>\n",
       "      <td>9240934</td>\n",
       "      <td>820.853030</td>\n",
       "      <td>AFG</td>\n",
       "      <td>4</td>\n",
       "    </tr>\n",
       "  </tbody>\n",
       "</table>\n",
       "</div>"
      ],
      "text/plain": [
       "       country continent  year  lifeExp      pop   gdpPercap iso_alpha  \\\n",
       "0  Afghanistan      Asia  1952   28.801  8425333  779.445314       AFG   \n",
       "1  Afghanistan      Asia  1957   30.332  9240934  820.853030       AFG   \n",
       "\n",
       "   iso_num  \n",
       "0        4  \n",
       "1        4  "
      ]
     },
     "execution_count": 3,
     "metadata": {},
     "output_type": "execute_result"
    }
   ],
   "source": [
    "gapminder.head(2)"
   ]
  },
  {
   "cell_type": "code",
   "execution_count": 4,
   "metadata": {
    "nbgrader": {
     "grade": false,
     "grade_id": "cell-954d081a14a46272",
     "locked": true,
     "schema_version": 1,
     "solution": false
    }
   },
   "outputs": [
    {
     "name": "stdout",
     "output_type": "stream",
     "text": [
      "<class 'pandas.core.frame.DataFrame'>\n",
      "RangeIndex: 1704 entries, 0 to 1703\n",
      "Data columns (total 8 columns):\n",
      " #   Column     Non-Null Count  Dtype  \n",
      "---  ------     --------------  -----  \n",
      " 0   country    1704 non-null   object \n",
      " 1   continent  1704 non-null   object \n",
      " 2   year       1704 non-null   int64  \n",
      " 3   lifeExp    1704 non-null   float64\n",
      " 4   pop        1704 non-null   int64  \n",
      " 5   gdpPercap  1704 non-null   float64\n",
      " 6   iso_alpha  1704 non-null   object \n",
      " 7   iso_num    1704 non-null   int64  \n",
      "dtypes: float64(2), int64(3), object(3)\n",
      "memory usage: 106.6+ KB\n"
     ]
    }
   ],
   "source": [
    "gapminder.info()"
   ]
  },
  {
   "cell_type": "markdown",
   "metadata": {
    "nbgrader": {
     "grade": false,
     "grade_id": "cell-9ae73b51a1f95520",
     "locked": true,
     "schema_version": 1,
     "solution": false
    }
   },
   "source": [
    "[Back to top](#Index:) \n",
    "\n",
    "### Problem 1: Lowest to Highest Average Life Expectancy\n",
    "\n",
    "**2 Points**\n",
    "\n",
    "Using the gapminder data, group on the continent and find the average life expectancy by continent.  Sort the results from greatest to least using the `.sort_values` method.  Make sure to set the `ascending` argument to `False`.  Assign your results as a DataFrame to `ans1` below.  "
   ]
  },
  {
   "cell_type": "code",
   "execution_count": 5,
   "metadata": {
    "nbgrader": {
     "grade": false,
     "grade_id": "cell-9174b84554ea287c",
     "locked": false,
     "schema_version": 1,
     "solution": true
    }
   },
   "outputs": [
    {
     "name": "stdout",
     "output_type": "stream",
     "text": [
      "             lifeExp\n",
      "continent           \n",
      "Oceania    74.326208\n",
      "Europe     71.903686\n",
      "Americas   64.658737\n",
      "Asia       60.064903\n",
      "Africa     48.865330\n",
      "<class 'pandas.core.frame.DataFrame'>\n"
     ]
    }
   ],
   "source": [
    "### GRADED\n",
    "\n",
    "ans1 = None\n",
    "\n",
    "### BEGIN SOLUTION\n",
    "ans1 = gapminder.groupby('continent')[['lifeExp']].mean().sort_values(by = 'lifeExp', ascending = False)\n",
    "### END SOLUTION\n",
    "\n",
    "# Answer check\n",
    "print(ans1)\n",
    "print(type(ans1))"
   ]
  },
  {
   "cell_type": "code",
   "execution_count": 6,
   "metadata": {
    "nbgrader": {
     "grade": true,
     "grade_id": "cell-3667c338ac1d9a93",
     "locked": true,
     "points": 2,
     "schema_version": 1,
     "solution": false
    }
   },
   "outputs": [],
   "source": [
    "### BEGIN HIDDEN TESTS\n",
    "gapminder_ = px.data.gapminder()\n",
    "ans1_ = gapminder_.groupby('continent')[['lifeExp']].mean().sort_values(by = 'lifeExp', ascending = False)\n",
    "#\n",
    "#\n",
    "#\n",
    "assert type(ans1_) == type(ans1)\n",
    "pd.testing.assert_frame_equal(ans1, ans1_)\n",
    "### END HIDDEN TESTS"
   ]
  },
  {
   "cell_type": "markdown",
   "metadata": {
    "nbgrader": {
     "grade": false,
     "grade_id": "cell-1bea53fc0d43687b",
     "locked": true,
     "schema_version": 1,
     "solution": false
    }
   },
   "source": [
    "[Back to top](#Index:) \n",
    "\n",
    "### Problem 2: Sorting GDP\n",
    "\n",
    "**2 Points**\n",
    "\n",
    "Which country has the highest average GDP?  Use groupby to answer this question and assign your answer as a one word string representing the name of the country to `ans2` below."
   ]
  },
  {
   "cell_type": "code",
   "execution_count": 7,
   "metadata": {
    "nbgrader": {
     "grade": false,
     "grade_id": "cell-53f700d04cb1c94e",
     "locked": false,
     "schema_version": 1,
     "solution": true
    }
   },
   "outputs": [
    {
     "name": "stdout",
     "output_type": "stream",
     "text": [
      "Kuwait\n",
      "<class 'str'>\n"
     ]
    }
   ],
   "source": [
    "### GRADED\n",
    "\n",
    "ans2 = None\n",
    "\n",
    "### BEGIN SOLUTION\n",
    "ans2 = 'Kuwait' #gapminder.groupby('country')[['gdpPercap']].mean().sort_values(by = 'gdpPercap', ascending = False)\n",
    "### END SOLUTION\n",
    "\n",
    "# Answer check\n",
    "print(ans2)\n",
    "print(type(ans2))"
   ]
  },
  {
   "cell_type": "code",
   "execution_count": 8,
   "metadata": {
    "nbgrader": {
     "grade": true,
     "grade_id": "cell-d18568269e3c1098",
     "locked": true,
     "points": 2,
     "schema_version": 1,
     "solution": false
    }
   },
   "outputs": [],
   "source": [
    "### BEGIN HIDDEN TESTS\n",
    "ans2_ = 'Kuwait'\n",
    "#\n",
    "#\n",
    "#\n",
    "assert type(ans2_) == type(ans2)\n",
    "assert ans2_.lower() == ans2.lower()\n",
    "### END HIDDEN TESTS"
   ]
  },
  {
   "cell_type": "markdown",
   "metadata": {
    "nbgrader": {
     "grade": false,
     "grade_id": "cell-3ebc023b2b54189b",
     "locked": true,
     "schema_version": 1,
     "solution": false
    }
   },
   "source": [
    "[Back to top](#Index:) \n",
    "\n",
    "### Problem 3: Sorting Results of Multiple Aggregates\n",
    "\n",
    "**2 Points**\n",
    "\n",
    "For this problem, use the `['mean', 'std', 'median']` functions to determine these values for the Life Expectancy of each continent.  Save this DataFrame to `ans3a` below  To sort the resulting values by medians from greatest to least, first flatten and rename the columns using the code:\n",
    "\n",
    "```python\n",
    "ans3a.columns = [\" \".join(c) for c in ans3a.columns.to_flat_index()]\n",
    "```\n",
    "\n",
    "\n",
    "Sort the results based on the median and assign your results as a DataFrame to `ans3b` below.  "
   ]
  },
  {
   "cell_type": "code",
   "execution_count": 9,
   "metadata": {
    "nbgrader": {
     "grade": false,
     "grade_id": "cell-52e240bec4e8a6a0",
     "locked": false,
     "schema_version": 1,
     "solution": true
    }
   },
   "outputs": [
    {
     "name": "stdout",
     "output_type": "stream",
     "text": [
      "           lifeExp mean  lifeExp std  lifeExp median\n",
      "continent                                           \n",
      "Africa        48.865330     9.150210         47.7920\n",
      "Americas      64.658737     9.345088         67.0480\n",
      "Asia          60.064903    11.864532         61.7915\n",
      "Europe        71.903686     5.433178         72.2410\n",
      "Oceania       74.326208     3.795611         73.6650\n",
      "           lifeExp mean  lifeExp std  lifeExp median\n",
      "continent                                           \n",
      "Africa        48.865330     9.150210         47.7920\n",
      "Asia          60.064903    11.864532         61.7915\n",
      "Americas      64.658737     9.345088         67.0480\n",
      "Europe        71.903686     5.433178         72.2410\n",
      "Oceania       74.326208     3.795611         73.6650\n"
     ]
    }
   ],
   "source": [
    "### GRADED\n",
    "\n",
    "ans3a = None\n",
    "ans3b = None\n",
    "\n",
    "### BEGIN SOLUTION\n",
    "ans3a = gapminder.groupby('continent').agg(['mean', 'std', 'median'])[['lifeExp']]\n",
    "ans3a.columns = [\" \".join(c) for c in ans3a.columns.to_flat_index()]\n",
    "ans3b = ans3a.sort_values(by = 'lifeExp median',ascending=False)\n",
    "### END SOLUTION\n",
    "\n",
    "# Answer check\n",
    "print(ans3a)\n",
    "print(ans3b)"
   ]
  },
  {
   "cell_type": "code",
   "execution_count": 10,
   "metadata": {
    "nbgrader": {
     "grade": true,
     "grade_id": "cell-e472f07102714ee4",
     "locked": true,
     "points": 2,
     "schema_version": 1,
     "solution": false
    }
   },
   "outputs": [],
   "source": [
    "### BEGIN HIDDEN TESTS\n",
    "gapminder_ = px.data.gapminder()\n",
    "ans3a_ = gapminder_.groupby('continent').agg(['mean', 'std', 'median'])[['lifeExp']]\n",
    "ans3a_.columns = [\" \".join(c) for c in ans3a_.columns.to_flat_index()]\n",
    "ans3b_ = ans3a_.sort_values(by = 'lifeExp median',ascending=False)\n",
    "#\n",
    "#\n",
    "#\n",
    "assert type(ans3a_) == type(ans3a)\n",
    "pd.testing.assert_frame_equal(ans3a, ans3a_)\n",
    "pd.testing.assert_frame_equal(ans3b, ans3b_)\n",
    "### END HIDDEN TESTS"
   ]
  },
  {
   "cell_type": "markdown",
   "metadata": {
    "nbgrader": {
     "grade": false,
     "grade_id": "cell-96f7c21c0351e655",
     "locked": true,
     "schema_version": 1,
     "solution": false
    }
   },
   "source": [
    "[Back to top](#Index:) \n",
    "\n",
    "### Problem 4: Sorting Custom Outputs\n",
    "\n",
    "**2 Points**\n",
    "\n",
    "Complete the function `column_range` that takes in a column, and returns the range (max - min) of a column in a DataFrame. "
   ]
  },
  {
   "cell_type": "code",
   "execution_count": 11,
   "metadata": {
    "nbgrader": {
     "grade": false,
     "grade_id": "cell-ef54140f4c5e26da",
     "locked": false,
     "schema_version": 1,
     "solution": true
    }
   },
   "outputs": [
    {
     "data": {
      "text/plain": [
       "59.00399999999999"
      ]
     },
     "execution_count": 11,
     "metadata": {},
     "output_type": "execute_result"
    }
   ],
   "source": [
    "### GRADED\n",
    "\n",
    "def column_range():\n",
    "    '''\n",
    "    This function takes in a pandas series and returns\n",
    "    the range of the series (max - min) as a float.\n",
    "    '''\n",
    "    pass\n",
    "\n",
    "### BEGIN SOLUTION\n",
    "def column_range(col):\n",
    "    return col.max() - col.min()\n",
    "### END SOLUTION\n",
    "\n",
    "# Answer check\n",
    "column_range(gapminder['lifeExp'])"
   ]
  },
  {
   "cell_type": "code",
   "execution_count": 12,
   "metadata": {
    "nbgrader": {
     "grade": true,
     "grade_id": "cell-1f39c6bb5e22442b",
     "locked": true,
     "points": 2,
     "schema_version": 1,
     "solution": false
    }
   },
   "outputs": [],
   "source": [
    "### BEGIN HIDDEN TESTS\n",
    "gapminder_ = px.data.gapminder()\n",
    "def column_range_(col):\n",
    "    return col.max() - col.min()\n",
    "\n",
    "\n",
    "ans4 = column_range(gapminder['lifeExp'])\n",
    "ans4_ = column_range_(gapminder['lifeExp'])\n",
    "#\n",
    "#\n",
    "#\n",
    "assert type(ans4) == type(ans4_)\n",
    "assert ans4 == ans4_\n",
    "### END HIDDEN TESTS"
   ]
  },
  {
   "cell_type": "markdown",
   "metadata": {
    "nbgrader": {
     "grade": false,
     "grade_id": "cell-d477c09a95ab23ab",
     "locked": true,
     "schema_version": 1,
     "solution": false
    }
   },
   "source": [
    "[Back to top](#Index:) \n",
    "\n",
    "### Problem 5: Applying the `column_range` function\n",
    "\n",
    "**2 Points**\n",
    "\n",
    "Use the `column_range` function to first groupby continent and then apply the function to the GDP feature.  Sort the results from greatest to least.  Assign your results as a DataFrame to `ans5` below."
   ]
  },
  {
   "cell_type": "code",
   "execution_count": 13,
   "metadata": {
    "nbgrader": {
     "grade": false,
     "grade_id": "cell-c44321bb8f95b1c6",
     "locked": false,
     "schema_version": 1,
     "solution": true
    }
   },
   "outputs": [
    {
     "data": {
      "text/html": [
       "<div>\n",
       "<style scoped>\n",
       "    .dataframe tbody tr th:only-of-type {\n",
       "        vertical-align: middle;\n",
       "    }\n",
       "\n",
       "    .dataframe tbody tr th {\n",
       "        vertical-align: top;\n",
       "    }\n",
       "\n",
       "    .dataframe thead th {\n",
       "        text-align: right;\n",
       "    }\n",
       "</style>\n",
       "<table border=\"1\" class=\"dataframe\">\n",
       "  <thead>\n",
       "    <tr style=\"text-align: right;\">\n",
       "      <th></th>\n",
       "      <th>gdpPercap</th>\n",
       "    </tr>\n",
       "    <tr>\n",
       "      <th>continent</th>\n",
       "      <th></th>\n",
       "    </tr>\n",
       "  </thead>\n",
       "  <tbody>\n",
       "    <tr>\n",
       "      <th>Asia</th>\n",
       "      <td>113192.132900</td>\n",
       "    </tr>\n",
       "    <tr>\n",
       "      <th>Europe</th>\n",
       "      <td>48383.656975</td>\n",
       "    </tr>\n",
       "    <tr>\n",
       "      <th>Americas</th>\n",
       "      <td>41750.015936</td>\n",
       "    </tr>\n",
       "    <tr>\n",
       "      <th>Oceania</th>\n",
       "      <td>24395.771800</td>\n",
       "    </tr>\n",
       "    <tr>\n",
       "      <th>Africa</th>\n",
       "      <td>21710.045883</td>\n",
       "    </tr>\n",
       "  </tbody>\n",
       "</table>\n",
       "</div>"
      ],
      "text/plain": [
       "               gdpPercap\n",
       "continent               \n",
       "Asia       113192.132900\n",
       "Europe      48383.656975\n",
       "Americas    41750.015936\n",
       "Oceania     24395.771800\n",
       "Africa      21710.045883"
      ]
     },
     "execution_count": 13,
     "metadata": {},
     "output_type": "execute_result"
    }
   ],
   "source": [
    "### GRADED\n",
    "\n",
    "ans5 = None\n",
    "\n",
    "### BEGIN SOLUTION\n",
    "ans5 = gapminder.groupby('continent')[['gdpPercap']].apply(column_range).sort_values(by = 'gdpPercap', ascending = False)\n",
    "### END SOLUTION\n",
    "\n",
    "# Answer check\n",
    "ans5"
   ]
  },
  {
   "cell_type": "code",
   "execution_count": 14,
   "metadata": {
    "nbgrader": {
     "grade": true,
     "grade_id": "cell-c48d7e9f2e76e4fb",
     "locked": true,
     "points": 2,
     "schema_version": 1,
     "solution": false
    }
   },
   "outputs": [],
   "source": [
    "### BEGIN HIDDEN TESTS\n",
    "gapminder_ = px.data.gapminder()\n",
    "def column_range_(col):\n",
    "    return col.max() - col.min()\n",
    "\n",
    "ans5_ = gapminder_.groupby('continent')[['gdpPercap']].apply(column_range).sort_values(by = 'gdpPercap', ascending = False)\n",
    "\n",
    "#\n",
    "#\n",
    "#\n",
    "pd.testing.assert_frame_equal(ans5_, ans5)\n",
    "### END HIDDEN TESTS"
   ]
  }
 ],
 "metadata": {
  "celltoolbar": "Create Assignment",
  "kernelspec": {
   "display_name": "Python 3",
   "language": "python",
   "name": "python3"
  },
  "language_info": {
   "codemirror_mode": {
    "name": "ipython",
    "version": 3
   },
   "file_extension": ".py",
   "mimetype": "text/x-python",
   "name": "python",
   "nbconvert_exporter": "python",
   "pygments_lexer": "ipython3",
   "version": "3.6.9"
  }
 },
 "nbformat": 4,
 "nbformat_minor": 4
}
