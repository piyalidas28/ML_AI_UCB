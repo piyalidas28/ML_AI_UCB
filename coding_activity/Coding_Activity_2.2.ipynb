{
 "cells": [
  {
   "cell_type": "markdown",
   "metadata": {
    "nbgrader": {
     "grade": false,
     "grade_id": "cell-461400fc0dc0e751",
     "locked": true,
     "schema_version": 1,
     "solution": false
    }
   },
   "source": [
    "### Codio Activity 2.2: Gaussian Distributions\n",
    "\n",
    "**Expected Time**: 45 Minutes\n",
    "\n",
    "**Total Points**: 10\n",
    "\n",
    "This activity focuses on generating and examining gaussian distributions using `scipy.stats`.  The main idea is to use the distribution to generate a sample and compare the sample statistics to those known in your distribution.   Note that you are to use the `.rvs` method of the distribution object rather than any numpy methods directly for generating samples.  \n",
    "\n",
    "#### Index:\n",
    "\n",
    "- [Problem 1](#Problem-1:-Creating-Gaussian-Distribution-Object)\n",
    "- [Problem 2](#Problem-2:-Random-Samples-from-Distribution)\n",
    "- [Problem 3](#Problem-3:-Statistics-of-Sample)\n",
    "- [Problem 4](#Problem-4:-Plotting-the-Distribution-and-Sample)\n"
   ]
  },
  {
   "cell_type": "code",
   "execution_count": 1,
   "metadata": {
    "nbgrader": {
     "grade": false,
     "grade_id": "cell-236f3f9e3744ea22",
     "locked": true,
     "schema_version": 1,
     "solution": false
    }
   },
   "outputs": [],
   "source": [
    "from scipy.stats import uniform\n",
    "from scipy.stats import norm\n",
    "import matplotlib.pyplot as plt\n",
    "import numpy as np"
   ]
  },
  {
   "cell_type": "markdown",
   "metadata": {
    "nbgrader": {
     "grade": false,
     "grade_id": "cell-a7af65a5fb7e1964",
     "locked": true,
     "schema_version": 1,
     "solution": false
    }
   },
   "source": [
    "[Back to top](#Index:) \n",
    "\n",
    "### Problem 1: Creating a Gaussian Distribution Object\n",
    "\n",
    "**2 Points**\n",
    "\n",
    "Note that the normal distribution function has been imported as `norm` from the `scipy.stats` library above.  Use this distribution to create a normal distribution centered at 5 with standard deviation 2.  Assign your solution as a distribution object to `gauss1` below.\n",
    "    \n",
    "\n",
    "    "
   ]
  },
  {
   "cell_type": "code",
   "execution_count": 2,
   "metadata": {
    "nbgrader": {
     "grade": false,
     "grade_id": "cell-d3775252487c85f0",
     "locked": false,
     "schema_version": 1,
     "solution": true
    }
   },
   "outputs": [
    {
     "name": "stdout",
     "output_type": "stream",
     "text": [
      "<class 'scipy.stats._distn_infrastructure.rv_frozen'>\n"
     ]
    }
   ],
   "source": [
    "### GRADED\n",
    "# Create a gausssian distribution from sample set\n",
    "\n",
    "gauss1 = None\n",
    "\n",
    "### BEGIN SOLUTION\n",
    "gauss1 = norm(loc = 5, scale = 2)\n",
    "### END SOLUTION\n",
    "\n",
    "# ANSWER CHECK\n",
    "print(type(gauss1))"
   ]
  },
  {
   "cell_type": "code",
   "execution_count": 3,
   "metadata": {
    "nbgrader": {
     "grade": true,
     "grade_id": "cell-dc39780bf9835f3c",
     "locked": true,
     "points": 2,
     "schema_version": 1,
     "solution": false
    }
   },
   "outputs": [],
   "source": [
    "### BEGIN HIDDEN TESTS \n",
    "gauss1_ = norm(loc = 5, scale = 2)\n",
    "#\n",
    "#\n",
    "#\n",
    "assert type(gauss1) == type(gauss1_), 'Make sure this is a distribution object'\n",
    "### END HIDDEN TESTS"
   ]
  },
  {
   "cell_type": "markdown",
   "metadata": {
    "nbgrader": {
     "grade": false,
     "grade_id": "cell-2dbf674c72ead722",
     "locked": true,
     "schema_version": 1,
     "solution": false
    }
   },
   "source": [
    "[Back to top](#Index:) \n",
    "\n",
    "### Problem 2: Random Samples from Distribution\n",
    "\n",
    "**3 Points**\n",
    "\n",
    "Use the `.rvs` method of `gauss1` to generate 100 random samples from the distribution.  Be sure to set the `random_state = 12` in the `.rvs` method.  Assign your response as an array to `samples` below."
   ]
  },
  {
   "cell_type": "code",
   "execution_count": 4,
   "metadata": {
    "nbgrader": {
     "grade": false,
     "grade_id": "cell-1174f4d488906999",
     "locked": false,
     "schema_version": 1,
     "solution": true
    }
   },
   "outputs": [
    {
     "name": "stdout",
     "output_type": "stream",
     "text": [
      "<class 'numpy.ndarray'>\n",
      "100\n"
     ]
    }
   ],
   "source": [
    "### GRADED\n",
    "\n",
    "samples = ''\n",
    "\n",
    "### BEGIN SOLUTION\n",
    "samples = gauss1.rvs(100, random_state = 12)\n",
    "### END SOLUTION\n",
    "\n",
    "# ANSWER CHECK\n",
    "print(type(samples))\n",
    "print(len(samples))"
   ]
  },
  {
   "cell_type": "code",
   "execution_count": 5,
   "metadata": {
    "nbgrader": {
     "grade": true,
     "grade_id": "cell-17eeca9f3fb1bfc0",
     "locked": true,
     "points": 3,
     "schema_version": 1,
     "solution": false
    }
   },
   "outputs": [],
   "source": [
    "### BEGIN HIDDEN TESTS \n",
    "samples_ = gauss1_.rvs(100, random_state = 12)\n",
    "#\n",
    "#\n",
    "#\n",
    "assert type(samples) == type(samples_), 'Make sure your solution is an array'\n",
    "np.testing.assert_array_equal(samples, samples_)\n",
    "### END HIDDEN TESTS"
   ]
  },
  {
   "cell_type": "markdown",
   "metadata": {
    "nbgrader": {
     "grade": false,
     "grade_id": "cell-d8757af1fc766bb8",
     "locked": true,
     "schema_version": 1,
     "solution": false
    }
   },
   "source": [
    "[Back to top](#Index:) \n",
    "\n",
    "### Problem 3: Statistics of Sample\n",
    "\n",
    "**2 Points**\n",
    "\n",
    "Using your `samples` array from above, determine the mean and standard deviation of the sample values.  Use `np.mean` and `np.std` to determine these and assign your solutions as type `numpy.float64` to `sample_mean` and `sample_std` below.  Compare these to the actual mean and standard deviation.  Are they close?"
   ]
  },
  {
   "cell_type": "code",
   "execution_count": 6,
   "metadata": {
    "nbgrader": {
     "grade": false,
     "grade_id": "cell-3537ed91e58c86f3",
     "locked": false,
     "schema_version": 1,
     "solution": true
    }
   },
   "outputs": [
    {
     "name": "stdout",
     "output_type": "stream",
     "text": [
      "4.711385004722623\n",
      "<class 'numpy.float64'>\n"
     ]
    }
   ],
   "source": [
    "### GRADED\n",
    "\n",
    "sample_mean = ''\n",
    "sample_std = ''\n",
    "\n",
    "### BEGIN SOLUTION\n",
    "sample_mean = np.mean(samples)\n",
    "sample_std = np.std(samples)\n",
    "### END SOLUTION\n",
    "\n",
    "# ANSWER CHECK\n",
    "print(sample_mean)\n",
    "print(type(sample_mean))"
   ]
  },
  {
   "cell_type": "code",
   "execution_count": 7,
   "metadata": {
    "nbgrader": {
     "grade": true,
     "grade_id": "cell-68ec6d82462fa109",
     "locked": true,
     "points": 2,
     "schema_version": 1,
     "solution": false
    }
   },
   "outputs": [],
   "source": [
    "### BEGIN HIDDEN TESTS \n",
    "sample_mean_ = np.mean(samples_)\n",
    "sample_std_ = np.std(samples_)\n",
    "#\n",
    "#\n",
    "#\n",
    "assert sample_mean == sample_mean_\n",
    "assert sample_std == sample_std_\n",
    "### END HIDDEN TESTS"
   ]
  },
  {
   "cell_type": "markdown",
   "metadata": {
    "nbgrader": {
     "grade": false,
     "grade_id": "cell-eab09377886228bf",
     "locked": true,
     "schema_version": 1,
     "solution": false
    }
   },
   "source": [
    "[Back to top](#Index:) \n",
    "\n",
    "### Problem 4: Plotting the Distribution and Sample\n",
    "\n",
    "**3 Points**\n",
    "\n",
    "The distribution created is centered at 5 with a standard deviation of 2.  By properties of the normal distribution, 99% of the data will be with $\\pm ~ 3\\sigma$.  Accordingly, create an array `x` using `np.linspace` with 1000 evenly spaced values $\\mu \\pm 3\\sigma$ (plus and minus three standard deviations from the mean).  Use this distribution to plot the `.pdf` of the `gauss1` distribution.  On the same plot, add a histogram of the sample data. \n",
    "\n",
    "Once `x` has been defined, the code below will produce the accompanying plot.\n",
    "\n",
    "```python\n",
    "plt.plot(x, gauss1.pdf(x), color = 'black', linewidth = 4, label = 'distribution')\n",
    "plt.hist(samples, density=True, alpha = 0.2, bins = 10, edgecolor = 'black', label = 'sample')\n",
    "plt.legend();\n",
    "```\n",
    "\n",
    "![](images/distandsamples.png)"
   ]
  },
  {
   "cell_type": "code",
   "execution_count": 8,
   "metadata": {
    "nbgrader": {
     "grade": false,
     "grade_id": "cell-deaaf2bf46d04004",
     "locked": false,
     "schema_version": 1,
     "solution": true
    }
   },
   "outputs": [
    {
     "name": "stdout",
     "output_type": "stream",
     "text": [
      "<class 'numpy.ndarray'>\n",
      "1000\n"
     ]
    }
   ],
   "source": [
    "### GRADED\n",
    "\n",
    "x = ''\n",
    "\n",
    "\n",
    "### BEGIN SOLUTION\n",
    "x = np.linspace(-1, 11, 1000)\n",
    "### END SOLUTION\n",
    "\n",
    "###uncomment the code below to make the plot\n",
    "# plt.plot(x, gauss1.pdf(x), color = 'black', linewidth = 4, label = 'distribution')\n",
    "# plt.hist(samples, density=True, alpha = 0.2, bins = 10, edgecolor = 'black', label = 'sample')\n",
    "# plt.legend();\n",
    "\n",
    "# ANSWER CHECK\n",
    "print(type(x))\n",
    "print(len(x))"
   ]
  },
  {
   "cell_type": "code",
   "execution_count": 9,
   "metadata": {
    "nbgrader": {
     "grade": true,
     "grade_id": "cell-1e64ff3ce3700fc1",
     "locked": true,
     "points": 3,
     "schema_version": 1,
     "solution": false
    }
   },
   "outputs": [],
   "source": [
    "### BEGIN HIDDEN TESTS \n",
    "x_ = np.linspace(-1, 11, 1000)\n",
    "#\n",
    "#\n",
    "#\n",
    "assert len(x) == len(x_)\n",
    "np.testing.assert_allclose(x, x_, err_msg='Array should have 1000 points from -1 to 11')\n",
    "### END HIDDEN TESTS"
   ]
  }
 ],
 "metadata": {
  "celltoolbar": "Create Assignment",
  "kernelspec": {
   "display_name": "Python 3 (ipykernel)",
   "language": "python",
   "name": "python3"
  },
  "language_info": {
   "codemirror_mode": {
    "name": "ipython",
    "version": 3
   },
   "file_extension": ".py",
   "mimetype": "text/x-python",
   "name": "python",
   "nbconvert_exporter": "python",
   "pygments_lexer": "ipython3",
   "version": "3.11.5"
  }
 },
 "nbformat": 4,
 "nbformat_minor": 2
}
