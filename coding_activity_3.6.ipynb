{
 "cells": [
  {
   "cell_type": "markdown",
   "metadata": {
    "nbgrader": {
     "grade": false,
     "grade_id": "cell-88d15a0ee1b2cab8",
     "locked": true,
     "schema_version": 1,
     "solution": false
    }
   },
   "source": [
    "### Codio Activity 3.6: Indexing\n",
    "\n",
    "**Expected Time**: 60 Minutes\n",
    "\n",
    "**Total Points**: 10\n",
    "\n",
    "This activity works through a similar example to the video, again using the gapminder dataset.  The goal is to compute what fraction of the worlds GDP did each country generate each year. \n",
    "\n",
    "#### Index:\n",
    "\n",
    "- [Problem 1](#Problem-1:-Total-GDP-by-year)\n",
    "- [Problem 2](#Problem-2:-Resetting-the-Index)\n",
    "- [Problem 3](#Problem-3:-Computing-Share-of-GDP)\n",
    "- [Problem 4](#Problem-4:-Resetting-the-Index-Again)\n",
    "- [Problem 5](#Problem-5:-Plotting-the-results)"
   ]
  },
  {
   "cell_type": "code",
   "execution_count": 32,
   "metadata": {},
   "outputs": [],
   "source": [
    "import plotly.express as px\n",
    "import pandas as pd\n",
    "import numpy as np\n",
    "import seaborn as sns\n",
    "import matplotlib.pyplot as plt"
   ]
  },
  {
   "cell_type": "code",
   "execution_count": 33,
   "metadata": {},
   "outputs": [],
   "source": [
    "gapminder = px.data.gapminder()"
   ]
  },
  {
   "cell_type": "code",
   "execution_count": 34,
   "metadata": {},
   "outputs": [
    {
     "data": {
      "text/html": [
       "<div>\n",
       "<style scoped>\n",
       "    .dataframe tbody tr th:only-of-type {\n",
       "        vertical-align: middle;\n",
       "    }\n",
       "\n",
       "    .dataframe tbody tr th {\n",
       "        vertical-align: top;\n",
       "    }\n",
       "\n",
       "    .dataframe thead th {\n",
       "        text-align: right;\n",
       "    }\n",
       "</style>\n",
       "<table border=\"1\" class=\"dataframe\">\n",
       "  <thead>\n",
       "    <tr style=\"text-align: right;\">\n",
       "      <th></th>\n",
       "      <th>country</th>\n",
       "      <th>continent</th>\n",
       "      <th>year</th>\n",
       "      <th>lifeExp</th>\n",
       "      <th>pop</th>\n",
       "      <th>gdpPercap</th>\n",
       "      <th>iso_alpha</th>\n",
       "      <th>iso_num</th>\n",
       "    </tr>\n",
       "  </thead>\n",
       "  <tbody>\n",
       "    <tr>\n",
       "      <th>0</th>\n",
       "      <td>Afghanistan</td>\n",
       "      <td>Asia</td>\n",
       "      <td>1952</td>\n",
       "      <td>28.801</td>\n",
       "      <td>8425333</td>\n",
       "      <td>779.445314</td>\n",
       "      <td>AFG</td>\n",
       "      <td>4</td>\n",
       "    </tr>\n",
       "    <tr>\n",
       "      <th>1</th>\n",
       "      <td>Afghanistan</td>\n",
       "      <td>Asia</td>\n",
       "      <td>1957</td>\n",
       "      <td>30.332</td>\n",
       "      <td>9240934</td>\n",
       "      <td>820.853030</td>\n",
       "      <td>AFG</td>\n",
       "      <td>4</td>\n",
       "    </tr>\n",
       "    <tr>\n",
       "      <th>2</th>\n",
       "      <td>Afghanistan</td>\n",
       "      <td>Asia</td>\n",
       "      <td>1962</td>\n",
       "      <td>31.997</td>\n",
       "      <td>10267083</td>\n",
       "      <td>853.100710</td>\n",
       "      <td>AFG</td>\n",
       "      <td>4</td>\n",
       "    </tr>\n",
       "    <tr>\n",
       "      <th>3</th>\n",
       "      <td>Afghanistan</td>\n",
       "      <td>Asia</td>\n",
       "      <td>1967</td>\n",
       "      <td>34.020</td>\n",
       "      <td>11537966</td>\n",
       "      <td>836.197138</td>\n",
       "      <td>AFG</td>\n",
       "      <td>4</td>\n",
       "    </tr>\n",
       "    <tr>\n",
       "      <th>4</th>\n",
       "      <td>Afghanistan</td>\n",
       "      <td>Asia</td>\n",
       "      <td>1972</td>\n",
       "      <td>36.088</td>\n",
       "      <td>13079460</td>\n",
       "      <td>739.981106</td>\n",
       "      <td>AFG</td>\n",
       "      <td>4</td>\n",
       "    </tr>\n",
       "  </tbody>\n",
       "</table>\n",
       "</div>"
      ],
      "text/plain": [
       "       country continent  year  lifeExp       pop   gdpPercap iso_alpha  \\\n",
       "0  Afghanistan      Asia  1952   28.801   8425333  779.445314       AFG   \n",
       "1  Afghanistan      Asia  1957   30.332   9240934  820.853030       AFG   \n",
       "2  Afghanistan      Asia  1962   31.997  10267083  853.100710       AFG   \n",
       "3  Afghanistan      Asia  1967   34.020  11537966  836.197138       AFG   \n",
       "4  Afghanistan      Asia  1972   36.088  13079460  739.981106       AFG   \n",
       "\n",
       "   iso_num  \n",
       "0        4  \n",
       "1        4  \n",
       "2        4  \n",
       "3        4  \n",
       "4        4  "
      ]
     },
     "execution_count": 34,
     "metadata": {},
     "output_type": "execute_result"
    }
   ],
   "source": [
    "gapminder.head()"
   ]
  },
  {
   "cell_type": "code",
   "execution_count": 35,
   "metadata": {},
   "outputs": [
    {
     "name": "stdout",
     "output_type": "stream",
     "text": [
      "<class 'pandas.core.frame.DataFrame'>\n",
      "RangeIndex: 1704 entries, 0 to 1703\n",
      "Data columns (total 8 columns):\n",
      " #   Column     Non-Null Count  Dtype  \n",
      "---  ------     --------------  -----  \n",
      " 0   country    1704 non-null   object \n",
      " 1   continent  1704 non-null   object \n",
      " 2   year       1704 non-null   int64  \n",
      " 3   lifeExp    1704 non-null   float64\n",
      " 4   pop        1704 non-null   int64  \n",
      " 5   gdpPercap  1704 non-null   float64\n",
      " 6   iso_alpha  1704 non-null   object \n",
      " 7   iso_num    1704 non-null   int64  \n",
      "dtypes: float64(2), int64(3), object(3)\n",
      "memory usage: 106.6+ KB\n"
     ]
    }
   ],
   "source": [
    "gapminder.info()"
   ]
  },
  {
   "cell_type": "markdown",
   "metadata": {
    "nbgrader": {
     "grade": false,
     "grade_id": "cell-c11189ea7797fd87",
     "locked": true,
     "schema_version": 1,
     "solution": false
    }
   },
   "source": [
    "[Back to top](#Index:) \n",
    "\n",
    "\n",
    "### Problem 1: Total GDP per Capita by year\n",
    "\n",
    "**2 Points**\n",
    "\n",
    "Use the `groupby` operation to group on the year column and compute the total GDP per Capita (`gdpPercap`) for each year (`sum`). Assign your results as a DataFrame to ans1 below."
   ]
  },
  {
   "cell_type": "code",
   "execution_count": 36,
   "metadata": {
    "nbgrader": {
     "grade": false,
     "grade_id": "cell-cc969d61ad0314b6",
     "locked": false,
     "schema_version": 1,
     "solution": true
    }
   },
   "outputs": [
    {
     "name": "stdout",
     "output_type": "stream",
     "text": [
      "         gdpPercap\n",
      "year              \n",
      "1952  5.289892e+05\n",
      "1957  6.105160e+05\n",
      "1962  6.710654e+05\n",
      "1967  7.786787e+05\n",
      "1972  9.613518e+05\n",
      "1977  1.038470e+06\n",
      "1982  1.067684e+06\n",
      "1987  1.121931e+06\n",
      "1992  1.158522e+06\n",
      "1997  1.290805e+06\n",
      "2002  1.408334e+06\n",
      "2007  1.658570e+06\n",
      "<class 'pandas.core.frame.DataFrame'>\n"
     ]
    }
   ],
   "source": [
    "### GRADED\n",
    "\n",
    "ans1 = None\n",
    "\n",
    "### BEGIN SOLUTION\n",
    "ans1 = gapminder.groupby('year').sum()[['gdpPercap']]\n",
    "\n",
    "### END SOLUTION\n",
    "\n",
    "# Answer check\n",
    "print(ans1)\n",
    "print(type(ans1))"
   ]
  },
  {
   "cell_type": "code",
   "execution_count": 37,
   "metadata": {
    "nbgrader": {
     "grade": true,
     "grade_id": "cell-d6ecf40d4ee71bff",
     "locked": true,
     "points": 2,
     "schema_version": 1,
     "solution": false
    }
   },
   "outputs": [],
   "source": [
    "### BEGIN HIDDEN TESTS\n",
    "gapminder_ = px.data.gapminder()\n",
    "ans1_ = gapminder_.groupby('year').sum()[['gdpPercap']]\n",
    "#\n",
    "#\n",
    "#\n",
    "assert type(ans1_) == type(ans1)\n",
    "pd.testing.assert_frame_equal(ans1, ans1_)\n",
    "### END HIDDEN TESTS"
   ]
  },
  {
   "cell_type": "markdown",
   "metadata": {},
   "source": [
    "[Back to top](#Index:) \n",
    "\n",
    "\n",
    "### Problem 2: Resetting the Index\n",
    "\n",
    "**2 Points**\n",
    "\n",
    "In order to compute the share of GDP, set the index of the original gapminder dataframe to a multi-index DataFrame with `set_index` using the `year` and `country` columns. Assign the resulting DataFrame to `ans2` below."
   ]
  },
  {
   "cell_type": "code",
   "execution_count": 38,
   "metadata": {
    "nbgrader": {
     "grade": false,
     "grade_id": "cell-6cafd965e50e4f03",
     "locked": false,
     "schema_version": 1,
     "solution": true
    }
   },
   "outputs": [
    {
     "name": "stdout",
     "output_type": "stream",
     "text": [
      "                 continent  lifeExp       pop   gdpPercap iso_alpha  iso_num\n",
      "year country                                                                \n",
      "1952 Afghanistan      Asia   28.801   8425333  779.445314       AFG        4\n",
      "1957 Afghanistan      Asia   30.332   9240934  820.853030       AFG        4\n",
      "1962 Afghanistan      Asia   31.997  10267083  853.100710       AFG        4\n",
      "1967 Afghanistan      Asia   34.020  11537966  836.197138       AFG        4\n",
      "1972 Afghanistan      Asia   36.088  13079460  739.981106       AFG        4\n",
      "<class 'pandas.core.frame.DataFrame'>\n"
     ]
    }
   ],
   "source": [
    "### GRADED\n",
    "\n",
    "ans2 = None\n",
    "\n",
    "### BEGIN SOLUTION\n",
    "ans2 = gapminder.set_index(['year', 'country'])\n",
    "### END SOLUTION\n",
    "\n",
    "# Answer check\n",
    "print(ans2.head())\n",
    "print(type(ans2))"
   ]
  },
  {
   "cell_type": "code",
   "execution_count": 39,
   "metadata": {
    "nbgrader": {
     "grade": true,
     "grade_id": "cell-54e2bcbf720bcfb4",
     "locked": true,
     "points": 2,
     "schema_version": 1,
     "solution": false
    }
   },
   "outputs": [],
   "source": [
    "### BEGIN HIDDEN TESTS\n",
    "gapminder_ = px.data.gapminder()\n",
    "ans2_ = gapminder_.set_index(['year', 'country'])\n",
    "#\n",
    "#\n",
    "#\n",
    "assert type(ans2_) == type(ans2)\n",
    "pd.testing.assert_frame_equal(ans2, ans2_)\n",
    "### END HIDDEN TESTS"
   ]
  },
  {
   "cell_type": "markdown",
   "metadata": {
    "nbgrader": {
     "grade": false,
     "grade_id": "cell-0cefd6fb035fb290",
     "locked": true,
     "schema_version": 1,
     "solution": false
    }
   },
   "source": [
    "[Back to top](#Index:) \n",
    "\n",
    "\n",
    "### Problem 3: Computing Share of GDP\n",
    "\n",
    "**2 Points**\n",
    "\n",
    "Use your solutions from problem 1 and 2 to determine each country's share of the world GDP by year. Assign the resulting DataFrame to `ans3` below. \n",
    "\n",
    "\n",
    "Hint: The resulting DataFrame ans3 should have the following structure:\n",
    "\n",
    "Columns:\n",
    "- year: The year of the data.\n",
    "- country: The name of the country.\n",
    "- gdpPercap: The share of the world GDP for the corresponding country and year.\n",
    "\n"
   ]
  },
  {
   "cell_type": "code",
   "execution_count": 40,
   "metadata": {
    "nbgrader": {
     "grade": false,
     "grade_id": "cell-42a3ebf40b65528f",
     "locked": false,
     "schema_version": 1,
     "solution": true
    }
   },
   "outputs": [
    {
     "name": "stdout",
     "output_type": "stream",
     "text": [
      "   year      country  gdpPercap\n",
      "0  1952  Afghanistan   0.001473\n",
      "1  1957  Afghanistan   0.001345\n",
      "2  1962  Afghanistan   0.001271\n",
      "3  1967  Afghanistan   0.001074\n",
      "4  1972  Afghanistan   0.000770\n",
      "(1704, 3) (1704, 8)\n"
     ]
    }
   ],
   "source": [
    "### GRADED\n",
    "\n",
    "ans3 = None\n",
    "\n",
    "### BEGIN SOLUTION\n",
    "# ans3 = gapminder.set_index(['year', 'country'])/gapminder.groupby('year').sum()\n",
    "a = gapminder.groupby('year').sum()[['gdpPercap']]\n",
    "b = gapminder.set_index(['year', 'country'])\n",
    "ans3 = b['gdpPercap'].div(a['gdpPercap'], level='year').reset_index(name='gdpPercap')\n",
    "### END SOLUTION\n",
    "\n",
    "# Answer check\n",
    "print(ans3.head())\n",
    "print(ans3.shape, gapminder.shape)\n"
   ]
  },
  {
   "cell_type": "code",
   "execution_count": 41,
   "metadata": {
    "nbgrader": {
     "grade": true,
     "grade_id": "cell-b36655df8ac71318",
     "locked": true,
     "points": 2,
     "schema_version": 1,
     "solution": false
    }
   },
   "outputs": [],
   "source": [
    "### BEGIN HIDDEN TESTS\n",
    "# gapminder_ = px.data.gapminder()\n",
    "# ans3_ = gapminder_.set_index(['year', 'country'])/gapminder_.groupby('year').sum()\n",
    "\n",
    "gapminder_ = px.data.gapminder()\n",
    "a_ = gapminder_.groupby('year').sum()[['gdpPercap']]\n",
    "b_ = gapminder_.set_index(['year', 'country'])\n",
    "\n",
    "ans3_ = b_['gdpPercap'].div(a_['gdpPercap'], level='year').reset_index(name='gdpPercap')\n",
    "\n",
    "#\n",
    "#\n",
    "#\n",
    "# assert type(ans3_) == type(ans3)\n",
    "# pd.testing.assert_frame_equal(ans3, ans3_)\n",
    "assert isinstance(ans3_, pd.DataFrame)\n",
    "pd.testing.assert_frame_equal(ans3, ans3_)\n",
    "### END HIDDEN TESTS"
   ]
  },
  {
   "cell_type": "markdown",
   "metadata": {
    "nbgrader": {
     "grade": false,
     "grade_id": "cell-11b731d172ccb259",
     "locked": true,
     "schema_version": 1,
     "solution": false
    }
   },
   "source": [
    "[Back to top](#Index:) \n",
    "\n",
    "\n",
    "### Problem 4: Resetting the Index Again\n",
    "\n",
    "**2 Points**\n",
    "\n",
    "Having computed the share of GDP by year in the earlier question using a multi-index, select the `gdpPercap` column and reset the index of the resulting series.  Assign your solution -- a DataFrame with columns `[year, country, gdpPercap]` -- to `ans4` below. "
   ]
  },
  {
   "cell_type": "code",
   "execution_count": 42,
   "metadata": {
    "nbgrader": {
     "grade": false,
     "grade_id": "cell-475fc312f890e12e",
     "locked": false,
     "schema_version": 1,
     "solution": true
    }
   },
   "outputs": [
    {
     "name": "stdout",
     "output_type": "stream",
     "text": [
      "   year      country  gdpPercap\n",
      "0  1952  Afghanistan   0.001473\n",
      "1  1957  Afghanistan   0.001345\n",
      "2  1962  Afghanistan   0.001271\n",
      "3  1967  Afghanistan   0.001074\n",
      "4  1972  Afghanistan   0.000770\n",
      "<class 'pandas.core.frame.DataFrame'>\n"
     ]
    }
   ],
   "source": [
    "### GRADED\n",
    "\n",
    "ans4 = None\n",
    "\n",
    "### BEGIN SOLUTION\n",
    "ans4 = (gapminder.set_index(['year', 'country'])/gapminder.groupby('year').sum())[['gdpPercap']].reset_index()\n",
    "### END SOLUTION\n",
    "\n",
    "# Answer check\n",
    "print(ans4.head())\n",
    "print(type(ans4))"
   ]
  },
  {
   "cell_type": "code",
   "execution_count": 43,
   "metadata": {
    "nbgrader": {
     "grade": true,
     "grade_id": "cell-75de2ef131e2a50f",
     "locked": true,
     "points": 2,
     "schema_version": 1,
     "solution": false
    }
   },
   "outputs": [],
   "source": [
    "### BEGIN HIDDEN TESTS\n",
    "gapminder_ = px.data.gapminder()\n",
    "ans4_ = (gapminder_.set_index(['year', 'country'])/gapminder_.groupby('year').sum())[['gdpPercap']].reset_index()\n",
    "#\n",
    "#\n",
    "#\n",
    "assert type(ans4_) == type(ans4)\n",
    "pd.testing.assert_frame_equal(ans4, ans4_)\n",
    "### END HIDDEN TESTS"
   ]
  },
  {
   "cell_type": "markdown",
   "metadata": {
    "nbgrader": {
     "grade": false,
     "grade_id": "cell-515d2cd89c3ff9fa",
     "locked": true,
     "schema_version": 1,
     "solution": false
    }
   },
   "source": [
    "[Back to top](#Index:) \n",
    "\n",
    "\n",
    "### Problem 5: Plotting the results\n",
    "\n",
    "**2 Points**\n",
    "\n",
    "Using the list of countries below, query your solution to problem 4 and assign the result to `ans5a` below as a DataFrame.  Use seaborn's `lineplot` to generate a plot where the x-axis represents the year, the y-axis share of world GDP, and hue is `country`.  Add the title \"Top Countries Share of GDP 1952 - 2002\" and human readable x label and y label."
   ]
  },
  {
   "cell_type": "code",
   "execution_count": 44,
   "metadata": {
    "nbgrader": {
     "grade": false,
     "grade_id": "cell-838879404b8f14ef",
     "locked": false,
     "schema_version": 1,
     "solution": true
    }
   },
   "outputs": [
    {
     "name": "stdout",
     "output_type": "stream",
     "text": [
      "     year country  gdpPercap\n",
      "288  1952   China   0.000757\n",
      "289  1957   China   0.000943\n",
      "290  1962   China   0.000727\n",
      "291  1967   China   0.000787\n",
      "292  1972   China   0.000704\n",
      "<class 'pandas.core.frame.DataFrame'>\n"
     ]
    }
   ],
   "source": [
    "### GRADED\n",
    "\n",
    "list_of_countries = ['China', 'United States', 'Japan', 'India', 'United Kingdom', 'Germany']\n",
    "ans5a = None\n",
    "ans5b = None\n",
    "\n",
    "### BEGIN SOLUTION\n",
    "ans5a = (gapminder.set_index(['year', 'country'])/gapminder.groupby('year').sum())[['gdpPercap']].reset_index().query(\"country in @list_of_countries\")\n",
    "### END SOLUTION\n",
    "\n",
    "# Answer check\n",
    "print(ans5a.head())\n",
    "print(type(ans5a))"
   ]
  },
  {
   "cell_type": "code",
   "execution_count": 45,
   "metadata": {
    "nbgrader": {
     "grade": true,
     "grade_id": "cell-24e5b6ab855a318d",
     "locked": true,
     "points": 2,
     "schema_version": 1,
     "solution": false
    }
   },
   "outputs": [],
   "source": [
    "### BEGIN HIDDEN TESTS\n",
    "gapminder_ = px.data.gapminder()\n",
    "ans4_ = (gapminder_.set_index(['year', 'country'])/gapminder_.groupby('year').sum())[['gdpPercap']].reset_index()\n",
    "list_of_countries = ['China', 'United States', 'Japan', 'India', 'United Kingdom', 'Germany']\n",
    "ans5a_ = ans4_.query(\"country in @list_of_countries\")\n",
    "\n",
    "#\n",
    "#\n",
    "#\n",
    "assert type(ans5a_) == type(ans5a)\n",
    "pd.testing.assert_frame_equal(ans5a, ans5a_)\n",
    "### END HIDDEN TESTS"
   ]
  },
  {
   "cell_type": "code",
   "execution_count": 46,
   "metadata": {},
   "outputs": [
    {
     "data": {
      "image/png": "[encoded data removed]",
      "text/plain": [
       "<Figure size 432x288 with 1 Axes>"
      ]
     },
     "metadata": {
      "needs_background": "light"
     },
     "output_type": "display_data"
    }
   ],
   "source": [
    "sns.lineplot(data = ans5a, x = 'year', y = 'gdpPercap', hue = 'country')\n",
    "plt.title('Share of GDP')\n",
    "plt.xlabel('Year')\n",
    "plt.ylabel(\"GDP per capita\");"
   ]
  }
 ],
 "metadata": {
  "celltoolbar": "Create Assignment",
  "kernelspec": {
   "display_name": "Python 3 (ipykernel)",
   "language": "python",
   "name": "python3"
  },
  "language_info": {
   "codemirror_mode": {
    "name": "ipython",
    "version": 3
   },
   "file_extension": ".py",
   "mimetype": "text/x-python",
   "name": "python",
   "nbconvert_exporter": "python",
   "pygments_lexer": "ipython3",
   "version": "3.9.11"
  }
 },
 "nbformat": 4,
 "nbformat_minor": 4
}
