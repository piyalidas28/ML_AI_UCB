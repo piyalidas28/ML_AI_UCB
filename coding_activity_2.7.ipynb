{
 "cells": [
  {
   "cell_type": "markdown",
   "metadata": {
    "nbgrader": {
     "grade": false,
     "grade_id": "cell-10f9b559c32d5bcd",
     "locked": true,
     "schema_version": 1,
     "solution": false
    }
   },
   "source": [
    "### COdio Activity 2.7: Approximating Correlation from scatterplots\n",
    "\n",
    "**Expected Time: 30 Minutes**\n",
    "\n",
    "**Total Points: 25**\n",
    "\n",
    "This assignment aims to reinforce your understanding of correlation.  A scatterplot of two random variables is shown in an image, and you are asked to guess the correlation between these variables.  Your guesses should be with $0.3$ of the actual correlation value.\n",
    "\n",
    "## Index:\n",
    "\n",
    "- [Problem 1](#Problem-1)\n",
    "- [Problem 2](#Problem-2)\n",
    "- [Problem 3](#Problem-3)\n",
    "- [Problem 4](#Problem-4)\n",
    "- [Problem 5](#Problem-5)\n"
   ]
  },
  {
   "cell_type": "code",
   "execution_count": 1,
   "metadata": {},
   "outputs": [],
   "source": [
    "import scipy.stats as stats\n",
    "import seaborn as sns\n",
    "import pandas as pd\n",
    "import matplotlib.pyplot as plt\n",
    "import numpy as np"
   ]
  },
  {
   "cell_type": "markdown",
   "metadata": {
    "nbgrader": {
     "grade": false,
     "grade_id": "cell-01d3b09871580bea",
     "locked": true,
     "schema_version": 1,
     "solution": false
    }
   },
   "source": [
    "[Back to top](#Index:) \n",
    "\n",
    "### Problem 1\n",
    "\n",
    "**5 Points**\n",
    "\n",
    "Given the scatterplot below, guess the correlation between the features `x1` and `y`. Assign your answer as a float to `ans1` below.  An answer within .3 of the true correlation will receive credit.\n",
    "\n",
    "![](images/guess_1.png)"
   ]
  },
  {
   "cell_type": "code",
   "execution_count": 2,
   "metadata": {
    "nbgrader": {
     "grade": false,
     "grade_id": "cell-d8bbfa13f2b7ae0a",
     "locked": false,
     "schema_version": 1,
     "solution": true
    }
   },
   "outputs": [
    {
     "name": "stdout",
     "output_type": "stream",
     "text": [
      "0.56763988\n",
      "<class 'float'>\n"
     ]
    }
   ],
   "source": [
    "### GRADED\n",
    "\n",
    "ans1 = None\n",
    "\n",
    "### BEGIN SOLUTION\n",
    "ans1 = 0.56763988\n",
    "### END SOLUTION\n",
    "\n",
    "# Answer check\n",
    "print(ans1)\n",
    "print(type(ans1))"
   ]
  },
  {
   "cell_type": "code",
   "execution_count": 3,
   "metadata": {
    "nbgrader": {
     "grade": true,
     "grade_id": "cell-2173092ece0a4682",
     "locked": true,
     "points": 5,
     "schema_version": 1,
     "solution": false
    }
   },
   "outputs": [],
   "source": [
    "### BEGIN HIDDEN TESTS\n",
    "ans1_ = 0.56763988\n",
    "#\n",
    "#\n",
    "#\n",
    "assert abs(ans1_ - ans1) < 0.3\n",
    "### END HIDDEN TESTS"
   ]
  },
  {
   "cell_type": "markdown",
   "metadata": {
    "nbgrader": {
     "grade": false,
     "grade_id": "cell-382de1b5c8f63c5a",
     "locked": true,
     "schema_version": 1,
     "solution": false
    }
   },
   "source": [
    "[Back to top](#Index:) \n",
    "\n",
    "### Problem 2\n",
    "\n",
    "**5 Points**\n",
    "\n",
    "\n",
    "Given the scatterplot below, guess the correlation between the features `x2` and `y`. Assign your answer as a float to `ans2` below.  An answer within .3 of the true correlation will receive credit.\n",
    "\n",
    "![](images/guess_2.png)"
   ]
  },
  {
   "cell_type": "code",
   "execution_count": 4,
   "metadata": {
    "nbgrader": {
     "grade": false,
     "grade_id": "cell-5d7037f91eeb36be",
     "locked": false,
     "schema_version": 1,
     "solution": true
    }
   },
   "outputs": [
    {
     "name": "stdout",
     "output_type": "stream",
     "text": [
      "0.11112693\n",
      "<class 'float'>\n"
     ]
    }
   ],
   "source": [
    "### GRADED\n",
    "\n",
    "ans2 = None\n",
    "\n",
    "### BEGIN SOLUTION\n",
    "ans2 = 0.11112693\n",
    "### END SOLUTION\n",
    "\n",
    "# Answer check\n",
    "print(ans2)\n",
    "print(type(ans2))"
   ]
  },
  {
   "cell_type": "code",
   "execution_count": 5,
   "metadata": {
    "nbgrader": {
     "grade": true,
     "grade_id": "cell-b1b7fa4feb4f789f",
     "locked": true,
     "points": 5,
     "schema_version": 1,
     "solution": false
    }
   },
   "outputs": [],
   "source": [
    "### BEGIN HIDDEN TESTS\n",
    "ans2_ = 0.11112693\n",
    "#\n",
    "#\n",
    "#\n",
    "assert abs(ans2_ - ans2) < 0.3\n",
    "### END HIDDEN TESTS"
   ]
  },
  {
   "cell_type": "markdown",
   "metadata": {
    "nbgrader": {
     "grade": false,
     "grade_id": "cell-e0ab12dd7b45e4e1",
     "locked": true,
     "schema_version": 1,
     "solution": false
    }
   },
   "source": [
    "[Back to top](#Index:) \n",
    "\n",
    "### Problem 3\n",
    "\n",
    "**5 Points**\n",
    "\n",
    "Given the scatterplot below, guess the correlation between the features `x3` and `y`. Assign your answer as a float to `ans3` below.  An answer within .3 of the true correlation will receive credit.\n",
    "\n",
    "![](images/guess_3.png)"
   ]
  },
  {
   "cell_type": "code",
   "execution_count": 6,
   "metadata": {
    "nbgrader": {
     "grade": false,
     "grade_id": "cell-54c7bc870388a32e",
     "locked": false,
     "schema_version": 1,
     "solution": true
    }
   },
   "outputs": [
    {
     "name": "stdout",
     "output_type": "stream",
     "text": [
      "0.79386772\n",
      "<class 'float'>\n"
     ]
    }
   ],
   "source": [
    "### GRADED\n",
    "\n",
    "ans3 = None\n",
    "\n",
    "### BEGIN SOLUTION\n",
    "ans3 = 0.79386772\n",
    "### END SOLUTION\n",
    "\n",
    "# Answer check\n",
    "print(ans3)\n",
    "print(type(ans3))"
   ]
  },
  {
   "cell_type": "code",
   "execution_count": 7,
   "metadata": {
    "nbgrader": {
     "grade": true,
     "grade_id": "cell-ca9169fc61fd4941",
     "locked": true,
     "points": 5,
     "schema_version": 1,
     "solution": false
    }
   },
   "outputs": [],
   "source": [
    "### BEGIN HIDDEN TESTS\n",
    "ans3_ = 0.79386772\n",
    "#\n",
    "#\n",
    "#\n",
    "assert abs(ans3_ - ans3) < 0.3\n",
    "### END HIDDEN TESTS"
   ]
  },
  {
   "cell_type": "markdown",
   "metadata": {
    "nbgrader": {
     "grade": false,
     "grade_id": "cell-c0ae18c147b12cb6",
     "locked": true,
     "schema_version": 1,
     "solution": false
    }
   },
   "source": [
    "[Back to top](#Index:) \n",
    "\n",
    "### Problem 4\n",
    "\n",
    "**5 Points**\n",
    "\n",
    "\n",
    "Given the scatterplot below, guess the correlation between the features `x4` and `y`. Assign your answer as a float to `ans4` below.  An answer within .3 of the true correlation will receive credit.\n",
    "\n",
    "![](images/guess_4.png)"
   ]
  },
  {
   "cell_type": "code",
   "execution_count": 8,
   "metadata": {
    "nbgrader": {
     "grade": false,
     "grade_id": "cell-d337632c05c8c07e",
     "locked": false,
     "schema_version": 1,
     "solution": true
    }
   },
   "outputs": [
    {
     "name": "stdout",
     "output_type": "stream",
     "text": [
      "-0.3644958\n",
      "<class 'float'>\n"
     ]
    }
   ],
   "source": [
    "### GRADED\n",
    "\n",
    "ans4 = None\n",
    "\n",
    "### BEGIN SOLUTION\n",
    "ans4 = -0.3644958\n",
    "### END SOLUTION\n",
    "\n",
    "# Answer check\n",
    "print(ans4)\n",
    "print(type(ans4))"
   ]
  },
  {
   "cell_type": "code",
   "execution_count": 9,
   "metadata": {
    "nbgrader": {
     "grade": true,
     "grade_id": "cell-094f8ab7c512e017",
     "locked": true,
     "points": 5,
     "schema_version": 1,
     "solution": false
    }
   },
   "outputs": [],
   "source": [
    "### BEGIN HIDDEN TESTS\n",
    "ans4_ = -0.3644958\n",
    "#\n",
    "#\n",
    "#\n",
    "assert abs(ans4_ - ans4) < 0.3\n",
    "### END HIDDEN TESTS"
   ]
  },
  {
   "cell_type": "markdown",
   "metadata": {
    "nbgrader": {
     "grade": false,
     "grade_id": "cell-1c2ddcf3b6b8dbd9",
     "locked": true,
     "schema_version": 1,
     "solution": false
    }
   },
   "source": [
    "[Back to top](#Index:) \n",
    "\n",
    "### Problem 5\n",
    "\n",
    "**5 Points**\n",
    "\n",
    "Given the scatterplot below, guess the correlation between the features `x5` and `y`. Assign your answer as a float to `ans5` below.  An answer within .3 of the true correlation will receive credit.\n",
    "\n",
    "![](images/guess_5.png)"
   ]
  },
  {
   "cell_type": "code",
   "execution_count": 10,
   "metadata": {
    "nbgrader": {
     "grade": false,
     "grade_id": "cell-f21cf8efefa20152",
     "locked": false,
     "schema_version": 1,
     "solution": true
    }
   },
   "outputs": [
    {
     "name": "stdout",
     "output_type": "stream",
     "text": [
      "-0.09696047\n",
      "<class 'float'>\n"
     ]
    }
   ],
   "source": [
    "### GRADED\n",
    "\n",
    "ans5 = None\n",
    "\n",
    "### BEGIN SOLUTION\n",
    "ans5 = -0.09696047\n",
    "### END SOLUTION\n",
    "\n",
    "# Answer check\n",
    "print(ans5)\n",
    "print(type(ans5))"
   ]
  },
  {
   "cell_type": "code",
   "execution_count": 11,
   "metadata": {
    "nbgrader": {
     "grade": true,
     "grade_id": "cell-19b36c42fe499d50",
     "locked": true,
     "points": 5,
     "schema_version": 1,
     "solution": false
    }
   },
   "outputs": [],
   "source": [
    "### BEGIN HIDDEN TESTS\n",
    "ans5_ = -0.09696047\n",
    "#\n",
    "#\n",
    "#\n",
    "assert abs(ans5_ - ans5) < 0.3\n",
    "### END HIDDEN TESTS"
   ]
  }
 ],
 "metadata": {
  "celltoolbar": "Create Assignment",
  "kernelspec": {
   "display_name": "Python 3 (ipykernel)",
   "language": "python",
   "name": "python3"
  },
  "language_info": {
   "codemirror_mode": {
    "name": "ipython",
    "version": 3
   },
   "file_extension": ".py",
   "mimetype": "text/x-python",
   "name": "python",
   "nbconvert_exporter": "python",
   "pygments_lexer": "ipython3",
   "version": "3.11.5"
  },
  "widgets": {
   "application/vnd.jupyter.widget-state+json": {
    "state": {},
    "version_major": 2,
    "version_minor": 0
   }
  }
 },
 "nbformat": 4,
 "nbformat_minor": 4
}
