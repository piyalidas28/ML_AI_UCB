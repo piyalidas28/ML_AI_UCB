{
  "cells": [
    {
      "cell_type": "markdown",
      "metadata": {},
      "source": [
        "TODO: add context and problem statement etc."
      ]
    },
    {
      "cell_type": "markdown",
      "metadata": {},
      "source": [
        "## Import modules and data"
      ]
    },
    {
      "cell_type": "code",
      "execution_count": null,
      "id": "ef00658b",
      "metadata": {},
      "outputs": [],
      "source": [
        "import os\n",
        "import pickle\n",
        "\n",
        "import warnings\n",
        "from datetime import datetime, timedelta\n",
        "from time import time\n",
        "\n",
        "import joblib\n",
        "import matplotlib.pyplot as plt\n",
        "import matplotlib.ticker as ticker\n",
        "import numpy as np\n",
        "import pandas as pd\n",
        "import plotly.express as px\n",
        "import seaborn as sns\n",
        "from sklearn.compose import ColumnTransformer\n",
        "from sklearn.dummy import DummyRegressor\n",
        "from sklearn.ensemble import GradientBoostingRegressor, RandomForestRegressor\n",
        "from sklearn.feature_selection import RFE\n",
        "from sklearn.inspection import permutation_importance\n",
        "from sklearn.linear_model import LinearRegression\n",
        "from sklearn.metrics import mean_squared_error, mean_squared_log_error, r2_score\n",
        "\n",
        "from sklearn.model_selection import RandomizedSearchCV, train_test_split\n",
        "from sklearn.neural_network import MLPRegressor\n",
        "from sklearn.pipeline import Pipeline\n",
        "from sklearn.preprocessing import OneHotEncoder, StandardScaler\n",
        "from sklearn.tree import DecisionTreeRegressor\n",
        "\n",
        "warnings.filterwarnings(\"ignore\")\n",
        "pd.set_option(\n",
        "    \"display.max_columns\", None\n",
        ")  # displays all columns (wrap-around) in pandas statistics"
      ]
    },
    {
      "cell_type": "code",
      "execution_count": null,
      "id": "e622721f",
      "metadata": {},
      "outputs": [],
      "source": [
        "file_paths = {\n",
        "    \"orders_train\": \"/data/sandcastle/boxes/configerator/source/parin_course/Ecommerce_Order_Dataset/train/df_Orders.csv\",\n",
        "    \"customers_train\": \"/data/sandcastle/boxes/configerator/source/parin_course/Ecommerce_Order_Dataset/train/df_Customers.csv\",\n",
        "    \"products_train\": \"/data/sandcastle/boxes/configerator/source/parin_course/Ecommerce_Order_Dataset/train/df_Products.csv\",\n",
        "    \"payments_train\": \"/data/sandcastle/boxes/configerator/source/parin_course/Ecommerce_Order_Dataset/train/df_Payments.csv\",\n",
        "    \"order_items_train\": \"/data/sandcastle/boxes/configerator/source/parin_course/Ecommerce_Order_Dataset/train/df_OrderItems.csv\",\n",
        "    \"orders_test\": \"/data/sandcastle/boxes/configerator/source/parin_course/Ecommerce_Order_Dataset/test/df_Orders.csv\",\n",
        "    \"customers_test\": \"/data/sandcastle/boxes/configerator/source/parin_course/Ecommerce_Order_Dataset/test/df_Customers.csv\",\n",
        "    \"products_test\": \"/data/sandcastle/boxes/configerator/source/parin_course/Ecommerce_Order_Dataset/test/df_Products.csv\",\n",
        "    \"payments_test\": \"/data/sandcastle/boxes/configerator/source/parin_course/Ecommerce_Order_Dataset/test/df_Payments.csv\",\n",
        "    \"order_items_test\": \"/data/sandcastle/boxes/configerator/source/parin_course/Ecommerce_Order_Dataset/test/df_OrderItems.csv\",\n",
        "}\n",
        "\n",
        "# Load datasets\n",
        "df_orders_train = pd.read_csv(file_paths[\"orders_train\"])\n",
        "df_customers_train = pd.read_csv(file_paths[\"customers_train\"])\n",
        "df_products_train = pd.read_csv(file_paths[\"products_train\"])\n",
        "df_payments_train = pd.read_csv(file_paths[\"payments_train\"])\n",
        "df_order_items_train = pd.read_csv(file_paths[\"order_items_train\"])\n",
        "\n",
        "df_orders_test = pd.read_csv(file_paths[\"orders_test\"])\n",
        "df_customers_test = pd.read_csv(file_paths[\"customers_test\"])\n",
        "df_products_test = pd.read_csv(file_paths[\"products_test\"])\n",
        "df_payments_test = pd.read_csv(file_paths[\"payments_test\"])\n",
        "df_order_items_test = pd.read_csv(file_paths[\"order_items_test\"])\n",
        "\n",
        "# Display the first few rows of each dataframe to understand the structure\n",
        "print(\"Orders (Train):\")\n",
        "display(df_orders_train.head())\n",
        "\n",
        "print(\"Customers (Train):\")\n",
        "display(df_customers_train.head())\n",
        "\n",
        "print(\"Products (Train):\")\n",
        "display(df_products_train.head())\n",
        "\n",
        "print(\"Payments (Train):\")\n",
        "display(df_payments_train.head())\n",
        "\n",
        "print(\"Order Items (Train):\")\n",
        "display(df_order_items_train.head())"
      ]
    },
    {
      "cell_type": "markdown",
      "metadata": {},
      "source": [
        "## Train data inspection and data cleaning"
      ]
    },
    {
      "cell_type": "code",
      "execution_count": null,
      "id": "6986a123",
      "metadata": {},
      "outputs": [],
      "source": [
        "# null values\n",
        "def print_null_duplicates(df):\n",
        "    print(\"Null values:\")\n",
        "    print(df.isnull().sum())\n",
        "    print(\"Duplicate values:\")\n",
        "    print(df.duplicated().sum())\n",
        "\n",
        "\n",
        "print(\"\\nOrders (Train):\")\n",
        "print_null_duplicates(df_orders_train)\n",
        "\n",
        "print(\"\\nCustomers (Train):\")\n",
        "print_null_duplicates(df_customers_train)\n",
        "\n",
        "print(\"\\nProducts (Train):\")\n",
        "print_null_duplicates(df_products_train)\n",
        "\n",
        "print(\"\\nPayments (Train):\")\n",
        "print_null_duplicates(df_payments_train)\n",
        "\n",
        "print(\"\\nOrder Items (Train):\")\n",
        "print_null_duplicates(df_order_items_train)"
      ]
    },
    {
      "cell_type": "markdown",
      "metadata": {},
      "source": [
        "### Orders dataset"
      ]
    },
    {
      "cell_type": "code",
      "execution_count": null,
      "id": "8c93c203",
      "metadata": {},
      "outputs": [],
      "source": [
        "df_orders_train.info()\n",
        "print(df_orders_train.duplicated(subset=[\"order_id\"]).value_counts())\n",
        "print(df_orders_train.duplicated(subset=[\"customer_id\"]).value_counts())"
      ]
    },
    {
      "cell_type": "markdown",
      "metadata": {},
      "source": [
        "Insights:\n",
        "* This can be merged with customers dateset\n",
        "* Following columns are unnecessary\n",
        "  * order_purchase_timestamp\n",
        "  * order_approved_at\n",
        "  * order_delivered_timestamp\n",
        "  * order_estimated_delivery_date\n",
        "* After merge the ID columns can be dropped from the training datasets"
      ]
    },
    {
      "cell_type": "markdown",
      "metadata": {},
      "source": [
        "### Customers dataset"
      ]
    },
    {
      "cell_type": "code",
      "execution_count": null,
      "id": "a0310438",
      "metadata": {},
      "outputs": [],
      "source": [
        "df_customers_train.info()\n",
        "print(df_customers_train.duplicated(subset=[\"customer_id\"]).value_counts())\n",
        "print(df_customers_train[\"customer_city\"].unique().size)\n",
        "print(df_customers_train[\"customer_state\"].unique().size)\n",
        "print(df_customers_train[\"customer_zip_code_prefix\"].sample(10))"
      ]
    },
    {
      "cell_type": "markdown",
      "metadata": {},
      "source": [
        "Insights\n",
        "* customer_zip_code_prefix is unnecessary and can be dropped\n",
        "* This can be merged with orders dataset"
      ]
    },
    {
      "cell_type": "markdown",
      "metadata": {},
      "source": [
        "### Products dataset"
      ]
    },
    {
      "cell_type": "code",
      "execution_count": null,
      "id": "d7d41272",
      "metadata": {},
      "outputs": [],
      "source": [
        "print(df_products_train.info())\n",
        "# removing duplicates from products dataset\n",
        "# df_products_train = df_products_train.drop_duplicates()\n",
        "print_null_duplicates(df_products_train)\n",
        "print(df_products_train[\"product_category_name\"].unique().size)\n",
        "print(df_products_train[\"product_category_name\"].unique())"
      ]
    },
    {
      "cell_type": "markdown",
      "metadata": {},
      "source": [
        "Insights:\n",
        "* We can remove the duplicate rows from the dataset\n",
        "* Marginal number of rows have product_category_name as nan\n",
        "  * We would still keep them in case some of those products are very popular"
      ]
    },
    {
      "cell_type": "markdown",
      "metadata": {},
      "source": [
        "### Order items dataset"
      ]
    },
    {
      "cell_type": "code",
      "execution_count": null,
      "id": "3048fbc3",
      "metadata": {},
      "outputs": [],
      "source": [
        "print(df_order_items_train.info())\n",
        "print(df_order_items_train.duplicated(subset=[\"order_id\"]).value_counts())\n",
        "print(df_order_items_train.duplicated(subset=[\"product_id\"]).value_counts())\n",
        "print(df_order_items_train.duplicated(subset=[\"seller_id\"]).value_counts())"
      ]
    },
    {
      "cell_type": "markdown",
      "metadata": {},
      "source": [
        "Insights:\n",
        "* Seller id is unnecessary\n",
        "* This dataset can be merged with orders dataset\n",
        "* Once merged, the id columns can be dropped"
      ]
    },
    {
      "cell_type": "markdown",
      "metadata": {},
      "source": [
        "### Payments dataset"
      ]
    },
    {
      "cell_type": "code",
      "execution_count": null,
      "id": "d874a7f7",
      "metadata": {},
      "outputs": [],
      "source": [
        "print(df_payments_train.info())\n",
        "print(df_payments_train.duplicated(subset=[\"order_id\"]).value_counts())\n",
        "print(df_payments_train[\"payment_type\"].unique())\n",
        "print(df_payments_train[\"payment_sequential\"].unique())\n",
        "print(df_payments_train[\"payment_installments\"].unique())\n",
        "\n",
        "# df_payments_train[\"payment_value\"].hist(\n",
        "#     column=\"payment_value\", bins=500, figsize=(15, 8)\n",
        "# )"
      ]
    },
    {
      "cell_type": "markdown",
      "metadata": {},
      "source": [
        "Insights:\n",
        "* Since all orders are unique, this can be merged with the orders table as well"
      ]
    },
    {
      "cell_type": "markdown",
      "metadata": {},
      "source": [
        "#### Clean datasets"
      ]
    },
    {
      "cell_type": "code",
      "execution_count": null,
      "id": "69542ac0",
      "metadata": {},
      "outputs": [],
      "source": [
        "def clean_orders_dataset(df):\n",
        "    df.drop_duplicates(inplace=True)\n",
        "    df.drop(\n",
        "        columns=[\n",
        "            \"order_purchase_timestamp\",\n",
        "            \"order_approved_at\",\n",
        "            \"order_delivered_timestamp\",\n",
        "            \"order_estimated_delivery_date\",\n",
        "        ],\n",
        "        inplace=True,\n",
        "    )\n",
        "\n",
        "\n",
        "def clean_customers_dataset(df):\n",
        "    df.drop_duplicates(inplace=True)\n",
        "    df.drop(columns=[\"customer_zip_code_prefix\"], inplace=True)\n",
        "\n",
        "\n",
        "def clean_products_dataset(df):\n",
        "    df.drop_duplicates(inplace=True)\n",
        "\n",
        "\n",
        "def clean_order_items_dataset(df):\n",
        "    df.drop_duplicates(inplace=True)\n",
        "    df.drop(columns=[\"seller_id\"], inplace=True)\n",
        "\n",
        "\n",
        "def clean_payments_dataset(df):\n",
        "    df.drop_duplicates(inplace=True)"
      ]
    },
    {
      "cell_type": "code",
      "execution_count": null,
      "id": "5e268003",
      "metadata": {},
      "outputs": [],
      "source": [
        "# clean train datasets\n",
        "clean_orders_dataset(df_orders_train)\n",
        "clean_customers_dataset(df_customers_train)\n",
        "clean_products_dataset(df_products_train)\n",
        "clean_order_items_dataset(df_order_items_train)\n",
        "clean_payments_dataset(df_payments_train)"
      ]
    },
    {
      "cell_type": "markdown",
      "metadata": {},
      "source": [
        "### Merge datasets"
      ]
    },
    {
      "cell_type": "code",
      "execution_count": null,
      "id": "37c1a763",
      "metadata": {},
      "outputs": [],
      "source": [
        "def merge_datasets(df_orders, df_order_items, df_customers, df_products, df_payments):\n",
        "    return (\n",
        "        df_orders.merge(df_order_items, on=\"order_id\", how=\"outer\")\n",
        "        .merge(df_customers, on=\"customer_id\", how=\"outer\")\n",
        "        .merge(df_products, on=\"product_id\", how=\"outer\")\n",
        "        .merge(df_payments, on=\"order_id\", how=\"outer\")\n",
        "    )\n",
        "\n",
        "\n",
        "df = merge_datasets(\n",
        "    df_orders_train,\n",
        "    df_order_items_train,\n",
        "    df_customers_train,\n",
        "    df_products_train,\n",
        "    df_payments_train,\n",
        ")\n",
        "df.info()\n",
        "print_null_duplicates(df)"
      ]
    },
    {
      "cell_type": "code",
      "execution_count": null,
      "id": "32c41906",
      "metadata": {},
      "outputs": [],
      "source": [
        "df.drop(columns=[\"order_id\", \"customer_id\", \"product_id\"], inplace=True)"
      ]
    },
    {
      "cell_type": "code",
      "execution_count": null,
      "id": "8bb9a82c",
      "metadata": {},
      "outputs": [],
      "source": [
        "print_null_duplicates(df)"
      ]
    },
    {
      "cell_type": "code",
      "execution_count": null,
      "id": "206188a8",
      "metadata": {},
      "outputs": [],
      "source": [
        "# it seems removing the various id columns resulted in lots of duplicates. Dropping those duplicates now\n",
        "df.drop_duplicates(inplace=True)\n",
        "print_null_duplicates(df)"
      ]
    },
    {
      "cell_type": "code",
      "execution_count": null,
      "id": "d5d123ee",
      "metadata": {},
      "outputs": [],
      "source": [
        "df.info()"
      ]
    },
    {
      "cell_type": "code",
      "execution_count": null,
      "id": "0f9227ea",
      "metadata": {},
      "outputs": [],
      "source": [
        "# reseting the index\n",
        "df.reset_index(drop=True, inplace=True)\n",
        "df.info()"
      ]
    },
    {
      "cell_type": "code",
      "execution_count": null,
      "id": "af539a2c",
      "metadata": {},
      "outputs": [],
      "source": [
        "df.head()"
      ]
    },
    {
      "cell_type": "markdown",
      "metadata": {},
      "source": [
        "### Exploratory data analysis"
      ]
    },
    {
      "cell_type": "markdown",
      "metadata": {},
      "source": [
        "#### Univariate analysis"
      ]
    },
    {
      "cell_type": "markdown",
      "metadata": {},
      "source": [
        "##### Numeric features"
      ]
    },
    {
      "cell_type": "code",
      "execution_count": null,
      "id": "b76cfaee",
      "metadata": {},
      "outputs": [],
      "source": [
        "df.hist(figsize=(15, 15), grid=False, bins=1000)"
      ]
    },
    {
      "cell_type": "code",
      "execution_count": null,
      "id": "3a295d55",
      "metadata": {},
      "outputs": [],
      "source": []
    },
    {
      "cell_type": "markdown",
      "metadata": {},
      "source": [
        "##### Categorical features"
      ]
    },
    {
      "cell_type": "code",
      "execution_count": null,
      "id": "36609b3e",
      "metadata": {},
      "outputs": [],
      "source": [
        "n_categories = 5\n",
        "n_cols = 2\n",
        "n_rows = n_categories // n_cols + (n_categories % n_cols > 0)\n",
        "cat = df[\n",
        "    [\n",
        "        \"order_status\",\n",
        "        \"product_category_name\",\n",
        "        \"payment_type\",\n",
        "        \"customer_state\",\n",
        "        \"customer_city\",\n",
        "    ]\n",
        "]\n",
        "fig, axs = plt.subplots(n_rows, n_cols, figsize=(n_cols * 17, n_rows * 24))\n",
        "axs = axs.flatten()\n",
        "for i, column in enumerate(cat.columns):\n",
        "    # Plot each category in its subplot\n",
        "    sns.barplot(\n",
        "        x=cat[column].value_counts().index, y=cat[column].value_counts(), ax=axs[i]\n",
        "    )\n",
        "    axs[i].set_title(column)\n",
        "    # Get current x-tick labels and set them with a 90-degree rotation\n",
        "    labels = axs[i].get_xticklabels()\n",
        "    axs[i].set_xticklabels(labels, rotation=90)\n",
        "\n",
        "for i in range(n_categories, len(axs)):\n",
        "    axs[i].set_visible(False)\n",
        "plt.tight_layout()\n",
        "plt.xticks(rotation=90)\n",
        "plt.show()"
      ]
    },
    {
      "cell_type": "code",
      "execution_count": null,
      "id": "8f1b6933",
      "metadata": {},
      "outputs": [],
      "source": []
    },
    {
      "cell_type": "code",
      "execution_count": null,
      "id": "a8748f76",
      "metadata": {},
      "outputs": [],
      "source": []
    },
    {
      "cell_type": "code",
      "execution_count": null,
      "id": "b5b513de",
      "metadata": {},
      "outputs": [],
      "source": []
    },
    {
      "cell_type": "code",
      "execution_count": null,
      "id": "9487d2dc",
      "metadata": {},
      "outputs": [],
      "source": []
    },
    {
      "cell_type": "code",
      "execution_count": null,
      "id": "22541b01",
      "metadata": {},
      "outputs": [],
      "source": []
    },
    {
      "cell_type": "code",
      "execution_count": null,
      "id": "c846bbde",
      "metadata": {},
      "outputs": [],
      "source": []
    },
    {
      "cell_type": "code",
      "execution_count": null,
      "id": "454888de",
      "metadata": {},
      "outputs": [],
      "source": []
    },
    {
      "cell_type": "code",
      "execution_count": null,
      "id": "25670468",
      "metadata": {},
      "outputs": [],
      "source": []
    },
    {
      "cell_type": "code",
      "execution_count": null,
      "id": "fcfb820f",
      "metadata": {},
      "outputs": [],
      "source": []
    }
  ],
  "metadata": {
    "fileHeader": "",
    "fileUid": "ef2df9cb-ccca-41a3-bd17-07de992d44fa",
    "isAdHoc": false,
    "kernelspec": {
      "display_name": "Python 3",
      "language": "python",
      "name": "bento_kernel_default"
    },
    "language_info": {
      "codemirror_mode": {
        "name": "ipython",
        "version": 3
      },
      "file_extension": ".py",
      "mimetype": "text/x-python",
      "name": "python",
      "nbconvert_exporter": "python",
      "pygments_lexer": "ipython3",
      "version": "3.11.7"
    }
  }
}
